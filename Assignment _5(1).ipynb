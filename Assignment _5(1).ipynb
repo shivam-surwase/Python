{
 "cells": [
  {
   "cell_type": "markdown",
   "id": "76e6792b",
   "metadata": {},
   "source": [
    "Write programs using lists in python\n",
    "1.Reverse a given list in Python\n",
    "a List = [100, 200, 300, 400, 500]\n",
    "\n",
    "output:\n",
    "[500, 400, 300, 200, 100"
   ]
  },
  {
   "cell_type": "code",
   "execution_count": 1,
   "id": "0d8e3409",
   "metadata": {},
   "outputs": [
    {
     "name": "stdout",
     "output_type": "stream",
     "text": [
      "[500, 400, 300, 200, 100]\n"
     ]
    }
   ],
   "source": [
    "l1 =[100,200,300,400,500]\n",
    "\n",
    "l2 =l1[::-1]\n",
    "print(l2)"
   ]
  },
  {
   "cell_type": "markdown",
   "id": "5b7ace39",
   "metadata": {},
   "source": [
    "2. take a list 'l1' of even nos between 150 to 250. Print its length.\n",
    "Then create another list 'l2' using 'l1', containing only nos divisible by 4 from 'l1'"
   ]
  },
  {
   "cell_type": "code",
   "execution_count": 20,
   "id": "9beb4c32",
   "metadata": {},
   "outputs": [
    {
     "name": "stdout",
     "output_type": "stream",
     "text": [
      "[150, 152, 154, 156, 158, 160, 162, 164, 166, 168, 170, 172, 174, 176, 178, 180, 182, 184, 186, 188, 190, 192, 194, 196, 198, 200, 202, 204, 206, 208, 210, 212, 214, 216, 218, 220, 222, 224, 226, 228, 230, 232, 234, 236, 238, 240, 242, 244, 246, 248]\n",
      "length of list\n",
      "50\n",
      "list l2 is\n",
      "[150, 152, 154, 156, 158, 160, 162, 164, 166, 168, 170, 172, 174, 176, 178, 180, 182, 184, 186, 188, 190, 192, 194, 196, 198, 200, 202, 204, 206, 208, 210, 212, 214, 216, 218, 220, 222, 224, 226, 228, 230, 232, 234, 236, 238, 240, 242, 244, 246, 248]\n",
      "list of number divisible by 4\n",
      "[152, 156, 160, 164, 168, 172, 176, 180, 184, 188, 192, 196, 200, 204, 208, 212, 216, 220, 224, 228, 232, 236, 240, 244, 248]\n",
      "25\n"
     ]
    }
   ],
   "source": [
    "l1=[]\n",
    "l2=[]\n",
    "l3=[]\n",
    "for i in range (150,250,2):\n",
    "    l1.append(i)\n",
    "\n",
    "    \n",
    "print(l1)\n",
    "print(\"length of list\")\n",
    "print(len(l1)) \n",
    "\n",
    "\n",
    "l2 =l1.copy()\n",
    "print(\"list l2 is\")\n",
    "print(l2)\n",
    "\n",
    "for e in l2:\n",
    "    if (e%4 == 0):\n",
    "        l3.append(e)\n",
    "print(\"list of number divisible by 4\")\n",
    "print(l3)\n",
    "print(len(l3))\n",
    "\n"
   ]
  },
  {
   "cell_type": "markdown",
   "id": "ce923dbe",
   "metadata": {},
   "source": [
    "3. Given a Python list of numbers. Turn every item of a list into its square root\n",
    "aList = [1, 4, 9, 16, 25, 36, 49] \n",
    "output:\n",
    "[1, 2, 3, 4, 5, 6, 7]"
   ]
  },
  {
   "cell_type": "code",
   "execution_count": 24,
   "id": "68066159",
   "metadata": {},
   "outputs": [
    {
     "name": "stdout",
     "output_type": "stream",
     "text": [
      "[1, 2, 3, 4, 5, 6, 7]\n"
     ]
    }
   ],
   "source": [
    "import math\n",
    "\n",
    "l1=[1,4,9,16,25,36,49]\n",
    "l2 =[]\n",
    "\n",
    "for e in l1:\n",
    "    l2.append(int(math.sqrt(e)))\n",
    "    \n",
    "print(l2)"
   ]
  },
  {
   "cell_type": "markdown",
   "id": "3d821650",
   "metadata": {},
   "source": [
    "4. Print two lists in the following order\n",
    "list1 = [5, 6,7]\n",
    "list2 = [0, 1]\n",
    "output:\n",
    "50,51,60,61,70,71"
   ]
  },
  {
   "cell_type": "code",
   "execution_count": 34,
   "id": "70ff56af",
   "metadata": {},
   "outputs": [
    {
     "name": "stdout",
     "output_type": "stream",
     "text": [
      "['50', '51', '60', '61', '70', '71']\n"
     ]
    }
   ],
   "source": [
    "l1=[5,6,7]\n",
    "l2=[0,1]\n",
    "l3 =[]\n",
    "l4=[]\n",
    "a=0\n",
    "for e1 in l1:\n",
    "    for e2 in l2:\n",
    "        a=str(e1)+str(e2)\n",
    "        l3.append(a)\n",
    "        \n",
    "        \n",
    "print(l3)\n"
   ]
  },
  {
   "cell_type": "markdown",
   "id": "57dbdfb3",
   "metadata": {},
   "source": [
    "5. Given a two Python list. Iterate both lists simultaneously such that list1 should display item in original order and list2 in reverse order. It should work for any two lists.\n",
    "\n",
    "list1 = [10, 20, 30, 40]\n",
    "\n",
    "list2 = [100, 200, 300, 400]\n",
    "\n",
    "output:\n",
    "10 400\n",
    "20 300\n",
    "30 200\n",
    "40 100"
   ]
  },
  {
   "cell_type": "code",
   "execution_count": 14,
   "id": "7d6b0145",
   "metadata": {},
   "outputs": [
    {
     "name": "stdout",
     "output_type": "stream",
     "text": [
      "[10, 20, 30, 40]\n",
      "[400, 300, 200, 100]\n",
      "10 400\n",
      "20 300\n",
      "30 200\n",
      "40 100\n"
     ]
    }
   ],
   "source": [
    "l1=[10,20,30,40]\n",
    "l2=[100,200,300,400]\n",
    "l2.reverse()\n",
    "\n",
    "print(l1)\n",
    "print(l2)\n",
    "\n",
    "for e1,e2 in zip(l1,l2):\n",
    "    print(e1,e2)\n",
    "    \n"
   ]
  },
  {
   "cell_type": "code",
   "execution_count": null,
   "id": "45162afe",
   "metadata": {},
   "outputs": [],
   "source": []
  },
  {
   "cell_type": "markdown",
   "id": "ec9ecdfc",
   "metadata": {},
   "source": [
    "6. Remove empty strings from the list of strings\n",
    "\n",
    "list1 = [\"Ashish\", \"\", \"Atharva\", \"Amit\", \"\", \"Revati\"]\n",
    "\n",
    "output:\n",
    "[\"Ashish\", \"Atharva\", \"Amit\", \"Revati\"]"
   ]
  },
  {
   "cell_type": "code",
   "execution_count": 46,
   "id": "10d9cd02",
   "metadata": {},
   "outputs": [
    {
     "name": "stdout",
     "output_type": "stream",
     "text": [
      "['Ashish', 'Atharva', 'Amit', 'Revati']\n"
     ]
    }
   ],
   "source": [
    "l1=[\"Ashish\", \"\", \"Atharva\", \"Amit\", \"\", \"Revati\"]\n",
    "\n",
    "l1.remove(\"\")\n",
    "l1.remove('')\n",
    "print(l1)\n"
   ]
  },
  {
   "cell_type": "markdown",
   "id": "496dfb50",
   "metadata": {},
   "source": [
    "7. Add item 7000 after 6000 in the following Python List\n",
    "\n",
    "list1 = [10, 20, [300, 400, [5000, 6000], 500], 30, 40]\n",
    "\n",
    "output:\n",
    "[10, 20, [300, 400, [5000, 6000, 7000], 500], 30, 40"
   ]
  },
  {
   "cell_type": "code",
   "execution_count": 56,
   "id": "b00e062e",
   "metadata": {},
   "outputs": [
    {
     "name": "stdout",
     "output_type": "stream",
     "text": [
      "[10, 20, [300, 400, [5000, 6000, 7000], 500], 30, 40]\n"
     ]
    }
   ],
   "source": [
    "l1 = [10, 20, [300, 400, [5000, 6000], 500], 30, 40]\n",
    "    \n",
    "l2=l1[2][2]\n",
    "l2.insert(2,7000)\n",
    "\n",
    "print(l1)"
   ]
  },
  {
   "cell_type": "markdown",
   "id": "92cd8a5f",
   "metadata": {},
   "source": [
    "9. Given a Python list, find value 20 in the list, and if it is present, replace it with 200. Only update the first occurrence of a value\n",
    "\n",
    "list1 = [5, 10, 15, 20, 25, 50, 20]\n",
    "\n",
    "output:\n",
    "list1 = [5, 10, 15, 200, 25, 50, 20]"
   ]
  },
  {
   "cell_type": "code",
   "execution_count": 2,
   "id": "3da38572",
   "metadata": {},
   "outputs": [
    {
     "name": "stdout",
     "output_type": "stream",
     "text": [
      "[5, 10, 15, 200, 25, 50, 20]\n"
     ]
    }
   ],
   "source": [
    "list1 = [5, 10, 15, 20, 25, 50, 20]\n",
    "\n",
    "list1[3]=200\n",
    "print(list1)"
   ]
  },
  {
   "cell_type": "markdown",
   "id": "c1987478",
   "metadata": {},
   "source": [
    "8. Given a nested list extend it by adding the sub list [\"h\", \"i\", \"j\"] in such a way that it will look like the following list\n",
    "\n",
    "\n",
    "list1 = [\"a\", \"b\", [\"c\", [\"d\", \"e\", [\"f\", \"g\"], \"k\"], \"l\"], \"m\", \"n\"]\n",
    "\n",
    "Sub List to be added = [\"h\", \"i\", \"j\"]\n",
    "\n",
    "output:\n",
    "['a', 'b', ['c', ['d', 'e', ['f', 'g', 'h', 'i', 'j'], 'k'], 'l'], 'm', 'n']"
   ]
  },
  {
   "cell_type": "code",
   "execution_count": 8,
   "id": "6a289397",
   "metadata": {},
   "outputs": [
    {
     "name": "stdout",
     "output_type": "stream",
     "text": [
      "['a', 'b', ['c', ['d', 'e', ['f', 'g', 'h', 'i', 'j'], 'k'], 'l'], 'm', 'n']\n"
     ]
    }
   ],
   "source": [
    "list1 = [\"a\", \"b\", [\"c\", [\"d\", \"e\", [\"f\", \"g\"], \"k\"], \"l\"], \"m\", \"n\"]\n",
    "subList = [\"h\", \"i\", \"j\"]\n",
    "list1[2][1][2].extend(subList)\n",
    "print(list1)"
   ]
  },
  {
   "cell_type": "markdown",
   "id": "727e995b",
   "metadata": {},
   "source": [
    "10. Given a Python list, remove all occurrence of 20 from the list\n",
    "\n",
    "list1 = [5, 20, 15, 20, 25, 50, 20]\n",
    "\n",
    "output:\n",
    "[5, 15, 25, 50"
   ]
  },
  {
   "cell_type": "code",
   "execution_count": 7,
   "id": "da0a8e3a",
   "metadata": {},
   "outputs": [
    {
     "name": "stdout",
     "output_type": "stream",
     "text": [
      "[5, 15, 25, 50]\n"
     ]
    }
   ],
   "source": [
    "l1 =[5, 20, 15, 20, 25, 50, 20]\n",
    "\n",
    "# l1.remove(20)\n",
    "# print(l1)\n",
    "\n",
    "for i,e in enumerate(l1):\n",
    "    if (l1[i] ==20):\n",
    "        l1.remove(e)\n",
    "        \n",
    "print(l1)\n",
    "\n"
   ]
  },
  {
   "cell_type": "markdown",
   "id": "82ad9858",
   "metadata": {},
   "source": [
    "11. Take a number as input from user. Print maximum and minimum integer which can be generated using all the digits in the input number\n",
    "\n",
    "Ex. Input 3421   : o/p max: 4321, min 1234\n",
    "\n",
    "Input 7789    : o/p max: 9776   min 6779"
   ]
  },
  {
   "cell_type": "code",
   "execution_count": 15,
   "id": "1c2834f3",
   "metadata": {},
   "outputs": [
    {
     "name": "stdout",
     "output_type": "stream",
     "text": [
      "enter the string3421\n",
      "['3', '4', '2', '1']\n",
      "1234\n",
      "4321\n"
     ]
    }
   ],
   "source": [
    "a=input(\"enter the string\")\n",
    "l1=[]\n",
    "l2=[]\n",
    "l1=list(a)\n",
    "print(l1)\n",
    "\n",
    "l1.sort()\n",
    "x=\"\".join(l1)\n",
    "x=int(x)\n",
    "print(x)\n",
    "l2=l1[::-1]\n",
    "y=\"\".join(l2)\n",
    "y=int(y)\n",
    "print(y)\n",
    "\n"
   ]
  },
  {
   "cell_type": "markdown",
   "id": "0347202e",
   "metadata": {},
   "source": [
    "12. Take integer from user and print all odd numbers which can be generated using any number of digits from given number\n",
    "\n",
    "Ex. \n",
    "Input: 3421  \n",
    "    \n",
    "\n",
    "o/p: 1,3,13,43,23,31,41,21,421,241,341,431,423,243,143,413,1243,1423,4213,4123, 2413,2143, .. etc\n"
   ]
  },
  {
   "cell_type": "code",
   "execution_count": 4,
   "id": "e556d488",
   "metadata": {},
   "outputs": [
    {
     "name": "stdout",
     "output_type": "stream",
     "text": [
      "enter the number4557\n",
      "['4', '5', '5', '7']\n"
     ]
    },
    {
     "ename": "AttributeError",
     "evalue": "'int' object has no attribute 'int'",
     "output_type": "error",
     "traceback": [
      "\u001b[1;31m---------------------------------------------------------------------------\u001b[0m",
      "\u001b[1;31mAttributeError\u001b[0m                            Traceback (most recent call last)",
      "Cell \u001b[1;32mIn[4], line 9\u001b[0m\n\u001b[0;32m      6\u001b[0m num\u001b[38;5;241m=\u001b[39m\u001b[38;5;241m0\u001b[39m\n\u001b[0;32m      8\u001b[0m \u001b[38;5;28;01mfor\u001b[39;00m l1 \u001b[38;5;129;01min\u001b[39;00m \u001b[38;5;28mlist\u001b[39m(itertools\u001b[38;5;241m.\u001b[39mpermutations(l1)):\n\u001b[1;32m----> 9\u001b[0m     num\u001b[38;5;241m.\u001b[39mint(joint(l1))\n\u001b[0;32m     10\u001b[0m     num\u001b[38;5;241m=\u001b[39m\u001b[38;5;28mint\u001b[39m(num)\n\u001b[0;32m     11\u001b[0m     \u001b[38;5;28;01mif\u001b[39;00m (num\u001b[38;5;241m%\u001b[39m\u001b[38;5;241m2\u001b[39m \u001b[38;5;241m!=\u001b[39m \u001b[38;5;241m0\u001b[39m):\n",
      "\u001b[1;31mAttributeError\u001b[0m: 'int' object has no attribute 'int'"
     ]
    }
   ],
   "source": [
    "import itertools\n",
    "a=input(\"enter the number\")\n",
    "l1=[]\n",
    "l1=list(a)\n",
    "print(l1)\n",
    "num=0\n",
    "\n",
    "for l1 in list(itertools.permutations(l1)):\n",
    "    num.int(joint(l1))\n",
    "    num=int(num)\n",
    "    if (num%2 != 0):\n",
    "        print(num)\n",
    "    \n",
    "\n",
    "\n",
    "\n"
   ]
  },
  {
   "cell_type": "code",
   "execution_count": null,
   "id": "c788aaf8",
   "metadata": {},
   "outputs": [],
   "source": []
  },
  {
   "cell_type": "code",
   "execution_count": null,
   "id": "c6c08df2",
   "metadata": {},
   "outputs": [],
   "source": []
  }
 ],
 "metadata": {
  "kernelspec": {
   "display_name": "Python 3 (ipykernel)",
   "language": "python",
   "name": "python3"
  },
  "language_info": {
   "codemirror_mode": {
    "name": "ipython",
    "version": 3
   },
   "file_extension": ".py",
   "mimetype": "text/x-python",
   "name": "python",
   "nbconvert_exporter": "python",
   "pygments_lexer": "ipython3",
   "version": "3.11.4"
  }
 },
 "nbformat": 4,
 "nbformat_minor": 5
}
