{
 "cells": [
  {
   "cell_type": "markdown",
   "id": "26fdb406",
   "metadata": {},
   "source": [
    "# Set Assignment"
   ]
  },
  {
   "cell_type": "code",
   "execution_count": 9,
   "id": "281f2227",
   "metadata": {},
   "outputs": [
    {
     "name": "stdout",
     "output_type": "stream",
     "text": [
      "{'Green', 'Orange', 'Black', 'Blue', 'orange', 'Red', 'Yellow'}\n"
     ]
    }
   ],
   "source": [
    "# 1. Add a list of elements to a given set\n",
    "sampleSet = {\"Yellow\", \"Orange\", \"Black\"}\n",
    "sampleList = [\"Blue\", \"Green\", \"Red\",\"Yellow\",\"orange\"]\n",
    "# for ele in sampleList:\n",
    "#     sampleSet.add(ele)\n",
    "# sampleSet\n",
    "# print(sampleSet.union(set(sampleList)))\n",
    "print(sampleSet.union(sampleList))"
   ]
  },
  {
   "cell_type": "code",
   "execution_count": 18,
   "id": "c0324893",
   "metadata": {},
   "outputs": [
    {
     "name": "stdout",
     "output_type": "stream",
     "text": [
      "{40, 50, 30}\n"
     ]
    }
   ],
   "source": [
    "# 2. display common elements from the given set\n",
    "set1 = {10, 20, 30, 40, 50}\n",
    "set2 = {30, 40, 50, 60, 70}\n",
    "set3=set1.intersection(set2)\n",
    "print(set3)"
   ]
  },
  {
   "cell_type": "code",
   "execution_count": 42,
   "id": "e0420d54",
   "metadata": {},
   "outputs": [
    {
     "name": "stdout",
     "output_type": "stream",
     "text": [
      "{100, 70, 10, 20, 25, 60}\n"
     ]
    }
   ],
   "source": [
    "# 3. Generate a new set with all items from both sets by removing numbers which are in both sets.\n",
    "set1 = {10, 20, 30, 40, 50,25}\n",
    "set2 = {30, 40, 50, 60, 70,100}\n",
    "set3=set1.symmetric_difference(set2)\n",
    "print(set3)"
   ]
  },
  {
   "cell_type": "code",
   "execution_count": 47,
   "id": "9d3269aa",
   "metadata": {},
   "outputs": [
    {
     "name": "stdout",
     "output_type": "stream",
     "text": [
      "{20, 70, 10, 60}\n"
     ]
    }
   ],
   "source": [
    "# 4. set of all elements in either A or B, but not both\n",
    "set1 = {10, 20, 30, 40, 50}\n",
    "set2 = {30, 40, 50, 60, 70}\n",
    "set3=set1.symmetric_difference(set2)\n",
    "print(set3)"
   ]
  },
  {
   "cell_type": "code",
   "execution_count": 49,
   "id": "1160e8b6",
   "metadata": {},
   "outputs": [
    {
     "name": "stdout",
     "output_type": "stream",
     "text": [
      "{20, 70, 10, 60}\n"
     ]
    }
   ],
   "source": [
    "# 5. Update set1 by adding items from set2, except common items\n",
    "set1 = {10, 20, 30, 40, 50}\n",
    "set2 = {30, 40, 50, 60, 70}\n",
    "set3=set1.symmetric_difference(set2)\n",
    "print(set3)"
   ]
  },
  {
   "cell_type": "code",
   "execution_count": 50,
   "id": "9872347f",
   "metadata": {},
   "outputs": [
    {
     "name": "stdout",
     "output_type": "stream",
     "text": [
      "Enter any line: \n",
      "i am here to check the here sta\n",
      "{'here', 'sta', 'am', 'check', 'i', 'to', 'the'}\n"
     ]
    }
   ],
   "source": [
    "# 6. Take a sentence as input from user. Every word is seperated by space. \n",
    "# Print all unique words from the sentence.\n",
    "line=input(\"Enter any line: \\n\")\n",
    "words=line.lower().split()\n",
    "unique_word=set(words)\n",
    "print(unique_word)"
   ]
  },
  {
   "cell_type": "markdown",
   "id": "45428130",
   "metadata": {},
   "source": [
    "# Tuple Assignment"
   ]
  },
  {
   "cell_type": "code",
   "execution_count": 53,
   "id": "bd3bad69",
   "metadata": {},
   "outputs": [
    {
     "name": "stdout",
     "output_type": "stream",
     "text": [
      "(60, 50, 40, 30, 20, 10)\n",
      "(60, 50, 40, 30, 20, 10)\n"
     ]
    }
   ],
   "source": [
    "# 1. Reverse the following tuple\n",
    "aTuple = (10, 20, 30, 40, 50,60)\n",
    "rev_tup=aTuple[::-1]\n",
    "print(rev_tup)\n",
    "ret=tuple(reversed(aTuple))\n",
    "print(ret)"
   ]
  },
  {
   "cell_type": "code",
   "execution_count": 54,
   "id": "911476cb",
   "metadata": {},
   "outputs": [
    {
     "name": "stdout",
     "output_type": "stream",
     "text": [
      "20\n"
     ]
    }
   ],
   "source": [
    "# 2. display value 20 from the following tuple\n",
    "aTuple = (\"Orange\", [10, 20, 30], (5, 15, 25))\n",
    "print(aTuple[1][1])"
   ]
  },
  {
   "cell_type": "code",
   "execution_count": 56,
   "id": "ec5ed134",
   "metadata": {},
   "outputs": [
    {
     "name": "stdout",
     "output_type": "stream",
     "text": [
      "10\n",
      "20\n",
      "30\n",
      "40\n"
     ]
    }
   ],
   "source": [
    "# 3. Unpack the following tuple into 4 variables\n",
    "aTuple = (10, 20, 30, 40)\n",
    "a,b,c,d=aTuple\n",
    "print(a,b,c,d,sep='\\n')"
   ]
  },
  {
   "cell_type": "code",
   "execution_count": 59,
   "id": "4057235e",
   "metadata": {},
   "outputs": [
    {
     "name": "stdout",
     "output_type": "stream",
     "text": [
      "before swaping\n",
      "(11, 22)\n",
      "(99, 88)\n",
      "after swaping\n",
      "(99, 88)\n",
      "(11, 22)\n"
     ]
    }
   ],
   "source": [
    "# 4. Swap the following two tuples\n",
    "tuple1 = (11, 22)\n",
    "tuple2 = (99, 88)\n",
    "print(\"before swaping\", tuple1,tuple2, sep='\\n')\n",
    "tuple1,tuple2=tuple2,tuple1\n",
    "print(\"after swaping\", tuple1,tuple2, sep='\\n')"
   ]
  },
  {
   "cell_type": "code",
   "execution_count": 61,
   "id": "fe7ab83f",
   "metadata": {},
   "outputs": [
    {
     "name": "stdout",
     "output_type": "stream",
     "text": [
      "(44, 55)\n"
     ]
    }
   ],
   "source": [
    "# 5. Copy element 44 and 55 from the following tuple into a new tuple\n",
    "tuple1 = (11, 22, 33, 44, 55, 66)\n",
    "tuple2=tuple1[3:5]\n",
    "print(tuple2)"
   ]
  },
  {
   "cell_type": "code",
   "execution_count": 62,
   "id": "c812c7f5",
   "metadata": {},
   "outputs": [
    {
     "name": "stdout",
     "output_type": "stream",
     "text": [
      "(11, [200, 33], 44, 55)\n"
     ]
    }
   ],
   "source": [
    "# 6. Modify the first item (22) of a list inside a following tuple to 200\n",
    "tuple1 = (11, [22, 33], 44, 55)\n",
    "tuple1[1][0]=200\n",
    "print(tuple1)"
   ]
  },
  {
   "cell_type": "code",
   "execution_count": 64,
   "id": "215a0ed2",
   "metadata": {},
   "outputs": [
    {
     "name": "stdout",
     "output_type": "stream",
     "text": [
      "Before swaping: a=10 , b=23\n",
      "Before swaping: a=23 , b=10\n"
     ]
    }
   ],
   "source": [
    "# 7. Take two integer values in a & b. Swap their values using tuple, using temparary variable and without tuple and without temparary variable.\n",
    "# with tuple\n",
    "a=10\n",
    "b=23\n",
    "print(f\"Before swaping: a={a} , b={b}\")\n",
    "b,a=a,b\n",
    "print(f\"Before swaping: a={a} , b={b}\")"
   ]
  },
  {
   "cell_type": "code",
   "execution_count": 65,
   "id": "fc90b73e",
   "metadata": {},
   "outputs": [
    {
     "name": "stdout",
     "output_type": "stream",
     "text": [
      "Before swaping: a=10 , b=23\n",
      "Before swaping: a=23 , b=10\n"
     ]
    }
   ],
   "source": [
    "# using temparary variable\n",
    "a=10\n",
    "b=23\n",
    "print(f\"Before swaping: a={a} , b={b}\")\n",
    "temp=a\n",
    "a=b\n",
    "b=temp\n",
    "print(f\"Before swaping: a={a} , b={b}\")"
   ]
  },
  {
   "cell_type": "markdown",
   "id": "0e54d116",
   "metadata": {},
   "source": [
    "# Dictionary Assignment"
   ]
  },
  {
   "cell_type": "markdown",
   "id": "f77a0996",
   "metadata": {},
   "source": []
  },
  {
   "cell_type": "code",
   "execution_count": 22,
   "id": "4dbcf567",
   "metadata": {},
   "outputs": [
    {
     "name": "stdout",
     "output_type": "stream",
     "text": [
      "Caesar cipher? I much prefer Caesar salad!\n"
     ]
    }
   ],
   "source": [
    "decode={'a':'n', 'b':'o', 'c':'p', 'd':'q', 'e':'r', 'f':'s', 'g':'t', 'h':'u', 'i':'v', 'j':'w', 'k':'x', 'l':'y', 'm':'z', 'n':'a', 'o':'b', 'p':'c',\n",
    "'q':'d', 'r':'e', 's':'f', 't':'g', 'u':'h', 'v':'i', 'w':'j', 'x':'k', 'y':'l', 'z':'m', 'A':'N', 'B':'O', 'C':'P', 'D':'Q', 'E':'R', 'F':'S', 'G':'T', 'H':'U', 'I':'V', 'J':'W', 'K':'X', 'L':'Y', 'M':'Z', 'N':'A', 'O':'B', 'P':'C', 'Q':'D', 'R':'E', 'S':'F', 'T':'G', 'U':'H', 'V':'I', 'W':'J', 'X':'K', 'Y':'L', 'Z':'M'}\n",
    "mess=\"Pnrfne pvcure? V zhpu cersre Pnrfne fnynq!\"\n",
    "dec=\"\"\n",
    "for ch in mess:\n",
    "    if ch.isalpha():\n",
    "        dec+=decode[ch]\n",
    "    else:\n",
    "        dec+=ch\n",
    "print(dec)"
   ]
  },
  {
   "cell_type": "code",
   "execution_count": 66,
   "id": "f22cb1a8",
   "metadata": {},
   "outputs": [
    {
     "name": "stdout",
     "output_type": "stream",
     "text": [
      "4\n"
     ]
    }
   ],
   "source": [
    "# 2. Given a dictionary of students and their favourite colours:\n",
    "dic={'Arham':'Blue','Lisa':'Yellow','Vinod':'Purple','Jenny':'Pink'}\n",
    "#a. Find out how many students are in the list\n",
    "print(len(dic.keys()))"
   ]
  },
  {
   "cell_type": "code",
   "execution_count": 26,
   "id": "26c345a5",
   "metadata": {},
   "outputs": [
    {
     "name": "stdout",
     "output_type": "stream",
     "text": [
      "{'Arham': 'Blue', 'Lisa': 'Pink', 'Vinod': 'Purple', 'Jenny': 'Pink'}\n"
     ]
    }
   ],
   "source": [
    "# b. Change Lisa’s favourite colour\n",
    "dic['Lisa']='Pink'\n",
    "print(dic)"
   ]
  },
  {
   "cell_type": "code",
   "execution_count": 29,
   "id": "4348d411",
   "metadata": {},
   "outputs": [
    {
     "name": "stdout",
     "output_type": "stream",
     "text": [
      "{'Arham': 'Blue', 'Lisa': 'Pink', 'Vinod': 'Purple'}\n"
     ]
    }
   ],
   "source": [
    "# c. Remove 'Jenny' and her favourite colour\n",
    "dic.pop('Jenny')\n",
    "print(dic)"
   ]
  },
  {
   "cell_type": "code",
   "execution_count": 33,
   "id": "4c851f32",
   "metadata": {},
   "outputs": [
    {
     "name": "stdout",
     "output_type": "stream",
     "text": [
      "{4: 2, 2: 2}\n",
      "4\n"
     ]
    }
   ],
   "source": [
    "input_sent= 'CDAC is in Pune'\n",
    "word=input_sent.split()\n",
    "d={}\n",
    "for i in word:\n",
    "    le=len(i)\n",
    "    d[le]=d.get(le,0)+1\n",
    "print(d)\n",
    "print(le)"
   ]
  },
  {
   "cell_type": "code",
   "execution_count": null,
   "id": "ef46e68a",
   "metadata": {},
   "outputs": [],
   "source": []
  }
 ],
 "metadata": {
  "kernelspec": {
   "display_name": "Python 3 (ipykernel)",
   "language": "python",
   "name": "python3"
  },
  "language_info": {
   "codemirror_mode": {
    "name": "ipython",
    "version": 3
   },
   "file_extension": ".py",
   "mimetype": "text/x-python",
   "name": "python",
   "nbconvert_exporter": "python",
   "pygments_lexer": "ipython3",
   "version": "3.10.9"
  }
 },
 "nbformat": 4,
 "nbformat_minor": 5
}
