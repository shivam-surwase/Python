{
 "cells": [
  {
   "cell_type": "markdown",
   "id": "e0732e90",
   "metadata": {},
   "source": [
    "Q1. What will be output of following\n",
    "\n",
    "a. type(0)\n",
    "b. type(0.0)\n",
    "c. type('A')\n",
    "d. type(print) -> remember print is function\n",
    "e. type(3+3j)\n",
    "f. type(True)"
   ]
  },
  {
   "cell_type": "code",
   "execution_count": 4,
   "id": "95e445ae",
   "metadata": {},
   "outputs": [
    {
     "data": {
      "text/plain": [
       "int"
      ]
     },
     "execution_count": 4,
     "metadata": {},
     "output_type": "execute_result"
    }
   ],
   "source": [
    "type(0)\n",
    "\n"
   ]
  },
  {
   "cell_type": "code",
   "execution_count": 5,
   "id": "6a9a491e",
   "metadata": {},
   "outputs": [
    {
     "data": {
      "text/plain": [
       "float"
      ]
     },
     "execution_count": 5,
     "metadata": {},
     "output_type": "execute_result"
    }
   ],
   "source": [
    "type(0.0)"
   ]
  },
  {
   "cell_type": "code",
   "execution_count": 6,
   "id": "41c46b76",
   "metadata": {},
   "outputs": [
    {
     "data": {
      "text/plain": [
       "str"
      ]
     },
     "execution_count": 6,
     "metadata": {},
     "output_type": "execute_result"
    }
   ],
   "source": [
    "type('A')"
   ]
  },
  {
   "cell_type": "code",
   "execution_count": 7,
   "id": "dda8b8cb",
   "metadata": {},
   "outputs": [
    {
     "data": {
      "text/plain": [
       "builtin_function_or_method"
      ]
     },
     "execution_count": 7,
     "metadata": {},
     "output_type": "execute_result"
    }
   ],
   "source": [
    "type(print)"
   ]
  },
  {
   "cell_type": "code",
   "execution_count": 8,
   "id": "860380fb",
   "metadata": {},
   "outputs": [
    {
     "data": {
      "text/plain": [
       "complex"
      ]
     },
     "execution_count": 8,
     "metadata": {},
     "output_type": "execute_result"
    }
   ],
   "source": [
    "type(3+3j)"
   ]
  },
  {
   "cell_type": "code",
   "execution_count": 9,
   "id": "691b1ee8",
   "metadata": {},
   "outputs": [
    {
     "data": {
      "text/plain": [
       "bool"
      ]
     },
     "execution_count": 9,
     "metadata": {},
     "output_type": "execute_result"
    }
   ],
   "source": [
    "type(True)"
   ]
  },
  {
   "cell_type": "markdown",
   "id": "f7222b09",
   "metadata": {},
   "source": [
    "Q2. What will be output of following\n",
    "\n",
    "a. isinstance(10,int)\n",
    "b. isinstance(10,float)\n",
    "c. isinstance(1,bool)\n",
    "d. isinstance(0,bool)\n",
    "e. isinstance(78.8,int)\n",
    "f. isinstance(78.8,float)\n",
    "g. isinstance(78.8,complex)\n",
    "h. isinstance(True,bool)"
   ]
  },
  {
   "cell_type": "code",
   "execution_count": 10,
   "id": "8f719c07",
   "metadata": {},
   "outputs": [
    {
     "data": {
      "text/plain": [
       "True"
      ]
     },
     "execution_count": 10,
     "metadata": {},
     "output_type": "execute_result"
    }
   ],
   "source": [
    "isinstance(10,int)"
   ]
  },
  {
   "cell_type": "code",
   "execution_count": 11,
   "id": "19e25642",
   "metadata": {},
   "outputs": [
    {
     "data": {
      "text/plain": [
       "False"
      ]
     },
     "execution_count": 11,
     "metadata": {},
     "output_type": "execute_result"
    }
   ],
   "source": [
    "isinstance(10,float)"
   ]
  },
  {
   "cell_type": "code",
   "execution_count": 15,
   "id": "0834e257",
   "metadata": {},
   "outputs": [
    {
     "data": {
      "text/plain": [
       "False"
      ]
     },
     "execution_count": 15,
     "metadata": {},
     "output_type": "execute_result"
    }
   ],
   "source": [
    "isinstance(1,bool)"
   ]
  },
  {
   "cell_type": "code",
   "execution_count": 13,
   "id": "f1184e0d",
   "metadata": {},
   "outputs": [
    {
     "data": {
      "text/plain": [
       "False"
      ]
     },
     "execution_count": 13,
     "metadata": {},
     "output_type": "execute_result"
    }
   ],
   "source": [
    "isinstance(0,bool)"
   ]
  },
  {
   "cell_type": "code",
   "execution_count": 16,
   "id": "4e6dee10",
   "metadata": {},
   "outputs": [
    {
     "data": {
      "text/plain": [
       "False"
      ]
     },
     "execution_count": 16,
     "metadata": {},
     "output_type": "execute_result"
    }
   ],
   "source": [
    "isinstance(78.8,int)"
   ]
  },
  {
   "cell_type": "code",
   "execution_count": 17,
   "id": "318f2ff7",
   "metadata": {},
   "outputs": [
    {
     "data": {
      "text/plain": [
       "True"
      ]
     },
     "execution_count": 17,
     "metadata": {},
     "output_type": "execute_result"
    }
   ],
   "source": [
    "isinstance(78.8,float)"
   ]
  },
  {
   "cell_type": "code",
   "execution_count": 18,
   "id": "d09ff827",
   "metadata": {},
   "outputs": [
    {
     "data": {
      "text/plain": [
       "False"
      ]
     },
     "execution_count": 18,
     "metadata": {},
     "output_type": "execute_result"
    }
   ],
   "source": [
    "isinstance(78.8,complex)"
   ]
  },
  {
   "cell_type": "code",
   "execution_count": 19,
   "id": "7b6b7302",
   "metadata": {},
   "outputs": [
    {
     "data": {
      "text/plain": [
       "True"
      ]
     },
     "execution_count": 19,
     "metadata": {},
     "output_type": "execute_result"
    }
   ],
   "source": [
    "isinstance(True,bool)"
   ]
  },
  {
   "cell_type": "markdown",
   "id": "2b8f2540",
   "metadata": {},
   "source": [
    "Q3. WAP to take following from user, \n",
    "roll no : should be int : store in a variable\n",
    "percentage marks : should be float: store in a variable\n",
    "Any complex number : should be a complex number : store in a variable\n",
    "name of student: should be a string : store in a variable"
   ]
  },
  {
   "cell_type": "code",
   "execution_count": 20,
   "id": "8519b37d",
   "metadata": {},
   "outputs": [
    {
     "name": "stdout",
     "output_type": "stream",
     "text": [
      "Enter your roll no :31\n",
      "31\n",
      "Enter your percentage88\n",
      "88.0\n",
      "Enter your nameomkar \n",
      "omkar \n",
      "Enter the complex number-1\n",
      "(-1+0j)\n"
     ]
    }
   ],
   "source": [
    "rollno= int(input(\"Enter your roll no :\"))\n",
    "print(rollno)\n",
    "per=float(input(\"Enter your percentage\"))\n",
    "print(per)\n",
    "name=input(\"Enter your name\")\n",
    "print(name)\n",
    "comp=complex(input(\"Enter the complex number\"))\n",
    "print(comp)"
   ]
  },
  {
   "cell_type": "markdown",
   "id": "eeccc7c9",
   "metadata": {},
   "source": [
    "Q4. WAP to convert given integer to binary, hex and octal format"
   ]
  },
  {
   "cell_type": "code",
   "execution_count": 34,
   "id": "202dec19",
   "metadata": {},
   "outputs": [
    {
     "name": "stdout",
     "output_type": "stream",
     "text": [
      "0b1000001\n",
      "0x41\n",
      "A\n",
      "65\n"
     ]
    }
   ],
   "source": [
    "num=65\n",
    "\n",
    "print(bin(num))\n",
    "print(hex(num))\n",
    "print(chr(num))\n",
    "print(ord('A'))\n",
    "\n"
   ]
  },
  {
   "cell_type": "markdown",
   "id": "411616f2",
   "metadata": {},
   "source": [
    "Q5. WAP to convert given binary string to an integer.\n",
    "NOTE: Binary string should start with '0b' always"
   ]
  },
  {
   "cell_type": "code",
   "execution_count": 43,
   "id": "b075a42b",
   "metadata": {},
   "outputs": [
    {
     "name": "stdout",
     "output_type": "stream",
     "text": [
      "4\n"
     ]
    }
   ],
   "source": [
    "b= 0b000100\n",
    "print(int(b))\n"
   ]
  },
  {
   "cell_type": "markdown",
   "id": "59ad651d",
   "metadata": {},
   "source": [
    "Q6. WAP to convert given octal string to an integer.\n",
    "NOTE: Binary string should start with '0o' always"
   ]
  },
  {
   "cell_type": "code",
   "execution_count": 2,
   "id": "47d07b63",
   "metadata": {},
   "outputs": [
    {
     "name": "stdout",
     "output_type": "stream",
     "text": [
      "enter the octal string41\n"
     ]
    },
    {
     "data": {
      "text/plain": [
       "33"
      ]
     },
     "execution_count": 2,
     "metadata": {},
     "output_type": "execute_result"
    }
   ],
   "source": [
    "a=input(\"enter the octal string\")\n",
    "\n",
    "int(a,8)"
   ]
  },
  {
   "cell_type": "markdown",
   "id": "5fb65403",
   "metadata": {},
   "source": [
    "Q7. WAP to convert given hex string to an integer.\n",
    "NOTE: Binary string should start with '0x' always"
   ]
  },
  {
   "cell_type": "code",
   "execution_count": 3,
   "id": "b0a7b675",
   "metadata": {},
   "outputs": [
    {
     "name": "stdout",
     "output_type": "stream",
     "text": [
      "enter the Hexa string41\n"
     ]
    },
    {
     "data": {
      "text/plain": [
       "65"
      ]
     },
     "execution_count": 3,
     "metadata": {},
     "output_type": "execute_result"
    }
   ],
   "source": [
    "a=input(\"enter the Hexa string\")\n",
    "\n",
    "int(a,16)"
   ]
  },
  {
   "cell_type": "markdown",
   "id": "a3438155",
   "metadata": {},
   "source": [
    "Q8. WAP to take an int from user. Print number of 1's and 0's in binary format of given number.\n",
    "NOTE: '0b' is suffix in binary string. It should not be included in calculation"
   ]
  },
  {
   "cell_type": "code",
   "execution_count": 10,
   "id": "848199fd",
   "metadata": {},
   "outputs": [
    {
     "name": "stdout",
     "output_type": "stream",
     "text": [
      "enter the number65\n",
      "65\n",
      "0\n",
      "b\n",
      "1\n",
      "0\n",
      "0\n",
      "0\n",
      "0\n",
      "0\n",
      "1\n"
     ]
    }
   ],
   "source": [
    "a =int(input(\"enter the number\"))\n",
    "print(a)\n",
    "\n",
    "b=bin(a)\n",
    "\n",
    "for char in b:\n",
    "    print(char)\n"
   ]
  },
  {
   "cell_type": "markdown",
   "id": "0fa2bcc0",
   "metadata": {},
   "source": [
    "Write a menu driven program.\n",
    "Ask the user which input needs to be converted \n",
    "1. binary 2. Octal 3. Hex\n",
    "Then convert given string to integer using int() function"
   ]
  },
  {
   "cell_type": "code",
   "execution_count": 1,
   "id": "2bf3efc5",
   "metadata": {},
   "outputs": [
    {
     "name": "stdout",
     "output_type": "stream",
     "text": [
      "press 1 to conert into binary\n",
      "press 2 to conert into octal\n",
      "press 3 to conert into hexa\n",
      "press 4 to quit \n",
      "Enter the choice1\n",
      "Enter the number10\n",
      "0b1010\n",
      "Enter the choice2\n",
      "Enter the number41\n",
      "0o51\n",
      "Enter the choice4\n"
     ]
    }
   ],
   "source": [
    "\n",
    "\n",
    "print(\"press 1 to conert into binary\")\n",
    "print(\"press 2 to conert into octal\")\n",
    "print(\"press 3 to conert into hexa\")\n",
    "print(\"press 4 to quit \")\n",
    "a=int(input(\"Enter the choice\"))\n",
    "while a!=4:\n",
    "    b=int(input(\"Enter the number\"))\n",
    "    if a==1:\n",
    "        print(bin(b))\n",
    "    \n",
    "    elif a==2:\n",
    "        print(oct(b))\n",
    "        \n",
    "    elif a==3:\n",
    "        print(hex(b))\n",
    "    \n",
    "    else:\n",
    "        break\n",
    "        \n",
    "    a=int(input(\"Enter the choice\"))\n",
    "\n",
    "else:\n",
    "    quit\n",
    "        \n",
    "        \n",
    "\n",
    "    "
   ]
  },
  {
   "cell_type": "markdown",
   "id": "6b9f3c38",
   "metadata": {},
   "source": [
    "Q10. Manually tell output (Truth value) of following expression, then verify it in python\n",
    "You can get truth value of an expression by passing it to bool()\n",
    "Ex. bool(100+56*3) returns True\n",
    "\n",
    "a. '' (empty string)\n",
    "b. 10-10\n",
    "c. 19.99-19.9\n",
    "d. [] (empty list)\n",
    "e. range(0)\n",
    "f. None\n",
    "g. 0+0.1j\n",
    "h. -10\n",
    "i. -9.6\n",
    "j. 'ABC'+'KL'\n",
    "k. '-'\n",
    "l. 'False'\n",
    "m. False\n",
    "n. 'None'"
   ]
  },
  {
   "cell_type": "code",
   "execution_count": 20,
   "id": "7992ac2e",
   "metadata": {},
   "outputs": [
    {
     "name": "stdout",
     "output_type": "stream",
     "text": [
      "False\n",
      "False\n",
      "False\n",
      "False\n",
      "False\n",
      "True\n",
      "True\n",
      "True\n",
      "True\n",
      "True\n",
      "True\n",
      "False\n",
      "True\n"
     ]
    }
   ],
   "source": [
    "print(bool())\n",
    "print(bool(10-10))\n",
    "print(bool(19.99-19.99))\n",
    "print(bool())\n",
    "print(bool(range(0)))\n",
    "print(bool(0+0.1j))\n",
    "print(bool(-10))\n",
    "print(bool(-9.6))\n",
    "print(bool('ABC'+'KL'))\n",
    "print(bool('_'))\n",
    "print(bool('False'))\n",
    "print(bool(False))\n",
    "print(bool('None'))\n"
   ]
  },
  {
   "cell_type": "markdown",
   "id": "7b92d6af",
   "metadata": {},
   "source": [
    "Q11. Find the size of x when x is given following values\n",
    "Hint : Size of object can be found by sys.getsizeof() function\n",
    "a. x=0 \n",
    "Check what is size of x\n",
    "b. x=1 \n",
    "Check what is size of x\n",
    "c. x=2 ** 20\n",
    "Check what is size of x\n",
    "d. x=2 ** 32\n",
    "Check what is size of x\n",
    "e. x=2 ** 60 \n",
    "Check what is size of x"
   ]
  },
  {
   "cell_type": "code",
   "execution_count": 24,
   "id": "b1e58de1",
   "metadata": {},
   "outputs": [
    {
     "name": "stdout",
     "output_type": "stream",
     "text": [
      "28\n",
      "28\n",
      "28\n",
      "32\n",
      "36\n"
     ]
    }
   ],
   "source": [
    "import sys\n",
    "x=0\n",
    "print(sys.getsizeof(x))\n",
    "x=1\n",
    "print(sys.getsizeof(x))\n",
    "x=2**20\n",
    "print(sys.getsizeof(x))\n",
    "x=2**32\n",
    "print(sys.getsizeof(x))\n",
    "x=2**60\n",
    "print(sys.getsizeof(x))"
   ]
  },
  {
   "cell_type": "markdown",
   "id": "6722da48",
   "metadata": {},
   "source": [
    "Q12. Find output of following\n",
    "\n",
    "a. 10 + True\n",
    "b. int(False)\n",
    "c. bin(False)\n",
    "d. hex(True)\n",
    "e. 1578.67 + False\n",
    "f. int(5/4)\n",
    "g. int(9/10)\n",
    "h. int(-89/10)\n",
    "i. float(True)\n",
    "j. float(6*7)\n",
    "k. float(1e3)\n",
    "l. float(1e323)"
   ]
  },
  {
   "cell_type": "code",
   "execution_count": 34,
   "id": "cca75cb6",
   "metadata": {},
   "outputs": [
    {
     "name": "stdout",
     "output_type": "stream",
     "text": [
      "11\n",
      "0\n",
      "0b0\n",
      "0x1\n",
      "1578.67\n",
      "1\n",
      "0\n",
      "-8\n",
      "1.0\n",
      "42.0\n",
      "1000.0\n",
      "inf\n"
     ]
    }
   ],
   "source": [
    "print((10 + True))\n",
    "print(int(False))\n",
    "print(bin(False))\n",
    "print(hex(True))\n",
    "print(1578.67 + False)\n",
    "print(int(5/4))\n",
    "print(int(9/10))\n",
    "print(int(-89/10))\n",
    "print(float(True))\n",
    "print(float(6*7))\n",
    "print(float(1e3))\n",
    "print(float(1e323))\n"
   ]
  },
  {
   "cell_type": "markdown",
   "id": "9cb8e6ad",
   "metadata": {},
   "source": [
    "Q13. Solve following\n",
    "\n",
    "a. Print value of int.bit_length(10)\n",
    "Print value of bin(10)\n",
    "Explain output of both functions\n",
    "\n",
    "Ans: bin fuction is use to convert the integer to binary and where as int.bitlength gives a Returns the number of bits required to represent an integer in binary, excluding the sign and leading zeros"
   ]
  },
  {
   "cell_type": "code",
   "execution_count": 41,
   "id": "e5e0b5e6",
   "metadata": {},
   "outputs": [
    {
     "name": "stdout",
     "output_type": "stream",
     "text": [
      "4\n",
      "0b1000\n"
     ]
    }
   ],
   "source": [
    "print(int.bit_length(8))\n",
    "\n",
    "print(bin(8))"
   ]
  },
  {
   "cell_type": "markdown",
   "id": "e3da4279",
   "metadata": {},
   "source": [
    "Take a number from user. Find its square root. And check if square root is an integer or not.\n",
    "(Hint: Use built-in function from float data type functions for last part)"
   ]
  },
  {
   "cell_type": "code",
   "execution_count": 4,
   "id": "63f41048",
   "metadata": {},
   "outputs": [
    {
     "name": "stdout",
     "output_type": "stream",
     "text": [
      "Enter the number64\n",
      "8.0\n"
     ]
    },
    {
     "data": {
      "text/plain": [
       "False"
      ]
     },
     "execution_count": 4,
     "metadata": {},
     "output_type": "execute_result"
    }
   ],
   "source": [
    "import math\n",
    "\n",
    "a=int(input(\"Enter the number\"))\n",
    "\n",
    "print(math.sqrt(a))\n",
    "\n",
    "isinstance(a,float)\n"
   ]
  },
  {
   "cell_type": "markdown",
   "id": "438bdbdf",
   "metadata": {},
   "source": [
    "c. Take hexadecimal string from user and convert it to float\n",
    "Ex. User input string: '0x1.67e30'\n",
    "o/p 1.4058074951171875"
   ]
  },
  {
   "cell_type": "code",
   "execution_count": 7,
   "id": "07ade434",
   "metadata": {},
   "outputs": [
    {
     "name": "stdout",
     "output_type": "stream",
     "text": [
      "Enter the string0x1.67e30\n"
     ]
    },
    {
     "ename": "ValueError",
     "evalue": "invalid literal for int() with base 10: '0x1.67e30'",
     "output_type": "error",
     "traceback": [
      "\u001b[1;31m---------------------------------------------------------------------------\u001b[0m",
      "\u001b[1;31mValueError\u001b[0m                                Traceback (most recent call last)",
      "Cell \u001b[1;32mIn[7], line 1\u001b[0m\n\u001b[1;32m----> 1\u001b[0m a\u001b[38;5;241m=\u001b[39m \u001b[38;5;28mint\u001b[39m(\u001b[38;5;28minput\u001b[39m(\u001b[38;5;124m\"\u001b[39m\u001b[38;5;124mEnter the string\u001b[39m\u001b[38;5;124m\"\u001b[39m))\n\u001b[0;32m      3\u001b[0m x\u001b[38;5;241m=\u001b[39m\u001b[38;5;28mfloat\u001b[39m(a)\n\u001b[0;32m      4\u001b[0m \u001b[38;5;28mprint\u001b[39m(x)\n",
      "\u001b[1;31mValueError\u001b[0m: invalid literal for int() with base 10: '0x1.67e30'"
     ]
    }
   ],
   "source": [
    "a= int(input(\"Enter the string\"))\n",
    "\n",
    "x=float(a)\n",
    "print(x)"
   ]
  },
  {
   "cell_type": "markdown",
   "id": "269f976d",
   "metadata": {},
   "source": [
    "WAP to convert given floating point number into fraction i..e numerator and denominator, and print them."
   ]
  },
  {
   "cell_type": "code",
   "execution_count": 8,
   "id": "da2a5ede",
   "metadata": {},
   "outputs": [
    {
     "data": {
      "text/plain": [
       "(1, 4)"
      ]
     },
     "execution_count": 8,
     "metadata": {},
     "output_type": "execute_result"
    }
   ],
   "source": [
    "(0.25).as_integer_ratio()"
   ]
  },
  {
   "cell_type": "markdown",
   "id": "1c831c36",
   "metadata": {},
   "source": [
    "Q15. WAP to create simple calculator in python.\n",
    "\n",
    "Take two numbers from user and give following options\n",
    "\n",
    "a. add b. subtract c. divide d. multiply e. integer division f. mod operation \n",
    "g. check if both numbers are same \n",
    "h. power operation \n",
    "i. square root of both numbers  \n",
    "j. log of both numbers\n",
    "k. gcd (find the  the greatest common divisor of the two integers) \n",
    "l. lcm (least common multiple)\n",
    "(Hint: Use inbuilt functions)"
   ]
  },
  {
   "cell_type": "code",
   "execution_count": null,
   "id": "2d09c949",
   "metadata": {},
   "outputs": [],
   "source": [
    "print(\"press 1 for add\")\n",
    "print(\"press 2 for subtract\")\n",
    "print(\"press 3 for divide\")\n",
    "print(\"press 4 fro multiply \")\n",
    "print(\"press 5 for integer division\")\n",
    "print(\"press 6 for mod operation\")\n",
    "print(\"press 7 for operation\")\n",
    "print(\"press 4 to quit \")\n",
    "a=int(input(\"Enter the choice\"))"
   ]
  }
 ],
 "metadata": {
  "kernelspec": {
   "display_name": "Python 3 (ipykernel)",
   "language": "python",
   "name": "python3"
  },
  "language_info": {
   "codemirror_mode": {
    "name": "ipython",
    "version": 3
   },
   "file_extension": ".py",
   "mimetype": "text/x-python",
   "name": "python",
   "nbconvert_exporter": "python",
   "pygments_lexer": "ipython3",
   "version": "3.11.4"
  }
 },
 "nbformat": 4,
 "nbformat_minor": 5
}
