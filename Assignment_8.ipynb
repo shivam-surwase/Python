{
 "cells": [
  {
   "cell_type": "markdown",
   "id": "b6b88bdd",
   "metadata": {},
   "source": [
    "\n",
    "1. Add a list of elements to a given set\n",
    "Given:\n",
    "sampleSet = {\"Yellow\", \"Orange\", \"Black\"}\n",
    "sampleList = [\"Blue\", \"Green\", \"Red\",”Yellow”,”orange”]"
   ]
  },
  {
   "cell_type": "code",
   "execution_count": 8,
   "id": "05d70b1c",
   "metadata": {},
   "outputs": [
    {
     "name": "stdout",
     "output_type": "stream",
     "text": [
      "{'Orange', 'Red', 'Yellow', 'Blue', 'orange', 'Black', 'Green'}\n"
     ]
    }
   ],
   "source": [
    "ss1={\"Yellow\", \"Orange\", \"Black\"}\n",
    "sampleList = [\"Blue\", \"Green\", \"Red\",\"Yellow\",\"orange\"]\n",
    " \n",
    "for e in sampleList:\n",
    "    ss1.add(e)\n",
    "    \n",
    "print(ss1)\n",
    "    \n"
   ]
  },
  {
   "cell_type": "markdown",
   "id": "351c2f9d",
   "metadata": {},
   "source": [
    "2. display common elements from the given set\n",
    "set1 = {10, 20, 30, 40, 50}\n",
    "set2 = {30, 40, 50, 60, 70}"
   ]
  },
  {
   "cell_type": "code",
   "execution_count": 9,
   "id": "db4dd1b6",
   "metadata": {},
   "outputs": [
    {
     "name": "stdout",
     "output_type": "stream",
     "text": [
      "{40, 50, 30}\n"
     ]
    }
   ],
   "source": [
    "set1 = {10, 20, 30, 40, 50}\n",
    "set2 = {30, 40, 50, 60, 70}\n",
    "\n",
    "print(set1&set2)"
   ]
  },
  {
   "cell_type": "markdown",
   "id": "49f0156b",
   "metadata": {},
   "source": [
    "3. Generate a new set with all items from both sets by removing numbers which are in both sets.\n",
    "set1 = {10, 20, 30, 40, 50,25}\n",
    "set2 = {30, 40, 50, 60, 70,100}\n",
    "o/p : order is not important\n",
    "{70, 10, 20, 60,25,100}\n"
   ]
  },
  {
   "cell_type": "code",
   "execution_count": 14,
   "id": "96eb3ce8",
   "metadata": {},
   "outputs": [
    {
     "name": "stdout",
     "output_type": "stream",
     "text": [
      "{100, 70, 10, 20, 25, 60}\n"
     ]
    }
   ],
   "source": [
    "set1 = {10, 20, 30, 40, 50,25}\n",
    "set2 = {30, 40, 50, 60, 70,100}\n",
    "\n",
    "print((set1|set2)-(set1&set2))\n"
   ]
  },
  {
   "cell_type": "markdown",
   "id": "e3ba2cc4",
   "metadata": {},
   "source": [
    "4. set of all elements in either A or B, but not both\n",
    "set1 = {10, 20, 30, 40, 50}\n",
    "set2 = {30, 40, 50, 60, 70}\n",
    "Expected output:\n",
    "{20, 70, 10, 60}"
   ]
  },
  {
   "cell_type": "code",
   "execution_count": 16,
   "id": "b77f9ef0",
   "metadata": {},
   "outputs": [
    {
     "name": "stdout",
     "output_type": "stream",
     "text": [
      "{10, 20, 70, 60}\n"
     ]
    }
   ],
   "source": [
    "set1 = {10, 20, 30, 40, 50}\n",
    "set2 = {30, 40, 50, 60, 70}\n",
    "\n",
    "print((set1|set2)-(set1&set2))"
   ]
  },
  {
   "cell_type": "markdown",
   "id": "915cbe79",
   "metadata": {},
   "source": [
    "5. Update set1 by adding items from set2, except common items\n",
    "set1 = {10, 20, 30, 40, 50}\n",
    "set2 = {30, 40, 50, 60, 70}\n",
    "Expected output:\n",
    "{70, 10, 20, 60}"
   ]
  },
  {
   "cell_type": "code",
   "execution_count": 18,
   "id": "8a0204b3",
   "metadata": {},
   "outputs": [
    {
     "name": "stdout",
     "output_type": "stream",
     "text": [
      "{10, 20, 70, 60}\n"
     ]
    }
   ],
   "source": [
    "set1 = {10, 20, 30, 40, 50}\n",
    "set2 = {30, 40, 50, 60, 70}\n",
    "\n",
    "print((set1|set2)-(set1&set2))"
   ]
  },
  {
   "cell_type": "markdown",
   "id": "89ddf626",
   "metadata": {},
   "source": [
    "6. Take a sentence as input from user. Every word is seperated by space. Print all unique words from the sentence."
   ]
  },
  {
   "cell_type": "code",
   "execution_count": 26,
   "id": "a0fe282a",
   "metadata": {},
   "outputs": [
    {
     "name": "stdout",
     "output_type": "stream",
     "text": [
      "Enter the stringSql is important\n",
      "{'is', 'important', 'Sql'}\n"
     ]
    }
   ],
   "source": [
    "a=input(\"Enter the string\")\n",
    "s1=set(a.split(\" \"))\n",
    "\n",
    "print(s1)"
   ]
  },
  {
   "cell_type": "markdown",
   "id": "fa1ecc88",
   "metadata": {},
   "source": [
    "# Tuple Assign"
   ]
  },
  {
   "cell_type": "code",
   "execution_count": null,
   "id": "20ad4f82",
   "metadata": {},
   "outputs": [],
   "source": [
    "1. Reverse the following tuple\n",
    "aTuple = (10, 20, 30, 40, 50,60)\n",
    "Expected output:\n",
    "(60,50, 40, 30, 20, 10)"
   ]
  },
  {
   "cell_type": "code",
   "execution_count": 42,
   "id": "1c186978",
   "metadata": {},
   "outputs": [
    {
     "name": "stdout",
     "output_type": "stream",
     "text": [
      "(60, 50, 40, 30, 20, 10)\n"
     ]
    }
   ],
   "source": [
    "T1 = (10, 20, 30, 40, 50,60)\n",
    "\n",
    "a=T1[::-1]\n",
    "print(a)\n",
    "\n"
   ]
  },
  {
   "cell_type": "markdown",
   "id": "12ca596b",
   "metadata": {},
   "source": [
    "2. display value 20 from the following tuple\n",
    "aTuple = (\"Orange\", [10, 20, 30], (5, 15, 25))\n"
   ]
  },
  {
   "cell_type": "code",
   "execution_count": 50,
   "id": "3b364067",
   "metadata": {},
   "outputs": [
    {
     "name": "stdout",
     "output_type": "stream",
     "text": [
      "20\n"
     ]
    }
   ],
   "source": [
    "T = (\"Orange\", [10, 20, 30], (5, 15, 25))\n",
    "value=T[1][1]\n",
    "print(value)"
   ]
  },
  {
   "cell_type": "markdown",
   "id": "f304b48c",
   "metadata": {},
   "source": [
    "3. Unpack the following tuple into 4 variables\n",
    "aTuple = (10, 20, 30, 40)"
   ]
  },
  {
   "cell_type": "code",
   "execution_count": 55,
   "id": "2f6ac40a",
   "metadata": {},
   "outputs": [
    {
     "name": "stdout",
     "output_type": "stream",
     "text": [
      "10 20 30 40\n"
     ]
    }
   ],
   "source": [
    "aTuple = (10, 20, 30, 40)\n",
    "\n",
    "a,b,c,d=aTuple\n",
    "print(a,b,c,d)"
   ]
  },
  {
   "cell_type": "markdown",
   "id": "41138dea",
   "metadata": {},
   "source": [
    "4. Swap the following two tuples\n",
    "tuple1 = (11, 22)\n",
    "tuple2 = (99, 88)\n",
    "Expected output:\n",
    "tuple1 = (99, 88)\n",
    "tuple2 = (11, 22)"
   ]
  },
  {
   "cell_type": "code",
   "execution_count": 56,
   "id": "095db60b",
   "metadata": {},
   "outputs": [
    {
     "name": "stdout",
     "output_type": "stream",
     "text": [
      "(99, 88)\n",
      "(11, 22)\n"
     ]
    }
   ],
   "source": [
    "t1 = (11, 22)\n",
    "t2 = (99, 88)\n",
    "\n",
    "t1,t2=t2,t1  #Swaping the elements in tuple\n",
    "\n",
    "print(t1)\n",
    "print(t2)"
   ]
  },
  {
   "cell_type": "markdown",
   "id": "a1d138eb",
   "metadata": {},
   "source": [
    "5. Copy element 44 and 55 from the following tuple into a new tuple\n",
    "tuple1 = (11, 22, 33, 44, 55, 66)\n",
    "Expected output:\n",
    "tuple2: (44, 55)"
   ]
  },
  {
   "cell_type": "code",
   "execution_count": 58,
   "id": "6bcc1817",
   "metadata": {},
   "outputs": [
    {
     "name": "stdout",
     "output_type": "stream",
     "text": [
      "(44, 55)\n"
     ]
    }
   ],
   "source": [
    "tuple1 = (11, 22, 33, 44, 55, 66)\n",
    "\n",
    "tuple2=(tuple1[3],tuple1[4])\n",
    "print(tuple2)"
   ]
  },
  {
   "cell_type": "markdown",
   "id": "f5ae7a43",
   "metadata": {},
   "source": [
    "6. Modify the first item (22) of a list inside a following tuple to 200\n",
    "tuple1 = (11, [22, 33], 44, 55)\n",
    "Expected output:\n",
    "tuple1: (11, [200, 33], 44, 55)"
   ]
  },
  {
   "cell_type": "code",
   "execution_count": 60,
   "id": "71167f7b",
   "metadata": {},
   "outputs": [
    {
     "name": "stdout",
     "output_type": "stream",
     "text": [
      "(11, [200, 33], 44, 55)\n"
     ]
    }
   ],
   "source": [
    "tuple1 = (11, [22, 33], 44, 55)\n",
    "\n",
    "tuple1[1][0]=200\n",
    "print(tuple1)"
   ]
  },
  {
   "cell_type": "markdown",
   "id": "97eb4c12",
   "metadata": {},
   "source": [
    "# Swapping Two Numbers"
   ]
  },
  {
   "cell_type": "markdown",
   "id": "b72efb94",
   "metadata": {},
   "source": [
    "7. Take two integer values in a & b. Swap their values using tuple, using temparary variable and without tuple and without temparary variable.\n",
    "Ex. a=10 b=23\n",
    "After swapping a=23 b=10"
   ]
  },
  {
   "cell_type": "markdown",
   "id": "efefb2b9",
   "metadata": {},
   "source": [
    "method 1 : direct Method"
   ]
  },
  {
   "cell_type": "code",
   "execution_count": 63,
   "id": "d7d536f0",
   "metadata": {},
   "outputs": [
    {
     "name": "stdout",
     "output_type": "stream",
     "text": [
      "23 10\n"
     ]
    }
   ],
   "source": [
    "a=10\n",
    "b=23\n",
    "\n",
    "a,b=b,a # internally there is tuple (10,23)\n",
    "print( a , b)\n"
   ]
  },
  {
   "cell_type": "markdown",
   "id": "af6d41a8",
   "metadata": {},
   "source": [
    "Method 2 : temporany Method"
   ]
  },
  {
   "cell_type": "code",
   "execution_count": null,
   "id": "81b5dd20",
   "metadata": {},
   "outputs": [],
   "source": [
    "temp=a\n",
    "a=b\n",
    "b=temp\n",
    "\n",
    "print(a ,b)"
   ]
  },
  {
   "cell_type": "markdown",
   "id": "944b56e4",
   "metadata": {},
   "source": [
    "Method 3 : temporany Method"
   ]
  },
  {
   "cell_type": "code",
   "execution_count": 64,
   "id": "3c84e106",
   "metadata": {},
   "outputs": [
    {
     "name": "stdout",
     "output_type": "stream",
     "text": [
      "10 23\n"
     ]
    }
   ],
   "source": [
    "a=a+b\n",
    "b=a-b\n",
    "a=a-b\n",
    "\n",
    "print(a ,b)"
   ]
  },
  {
   "cell_type": "markdown",
   "id": "98f40127",
   "metadata": {},
   "source": [
    "# Dictionary Assignments"
   ]
  },
  {
   "cell_type": "markdown",
   "id": "b62b0263",
   "metadata": {},
   "source": [
    "1. In cryptography, a Caesar cipher is a very simple encryption techniques in which each letter in the plain text is replaced by a letter some fixed number of positions down the alphabet. For example, with a shift of 3, A would be replaced by D, B would become E, and so on. The method is named after Julius Caesar, who used it to communicate with his generals. ROT-13 (\"rotate by 13 places\") is a widely used\n",
    "example of a Caesar cipher where the shift is 13. In Python, the key for ROT-13 may be represented by means of the following dictionary\n",
    "{'a':'n', 'b':'o', 'c':'p', 'd':'q', 'e':'r', 'f':'s', 'g':'t', 'h':'u', 'i':'v', 'j':'w', 'k':'x', 'l':'y', 'm':'z', 'n':'a', 'o':'b', 'p':'c',\n",
    "'q':'d', 'r':'e', 's':'f', 't':'g', 'u':'h', 'v':'i', 'w':'j', 'x':'k', 'y':'l', 'z':'m', 'A':'N', 'B':'O', 'C':'P', 'D':'Q', 'E':'R', 'F':'S', 'G':'T', 'H':'U', 'I':'V', 'J':'W', 'K':'X', 'L':'Y', 'M':'Z', 'N':'A', 'O':'B', 'P':'C', 'Q':'D', 'R':'E', 'S':'F', 'T':'G', 'U':'H', 'V':'I', 'W':'J', 'X':'K', 'Y':'L', 'Z':'M'}\n",
    "Your task in this exercise is to implement an encoder/decoder of ROT-13. Once you're done, you will be able to read the following secret message:\n",
    "Pnrfne pvcure? V zhpu cersre Pnrfne fnynq!\n",
    "Note that since English has 26 characters, your ROT-13 program will be able to both encode and decode texts written in English."
   ]
  },
  {
   "cell_type": "code",
   "execution_count": 32,
   "id": "ae3441e4",
   "metadata": {},
   "outputs": [
    {
     "name": "stdout",
     "output_type": "stream",
     "text": [
      "enter the passcodePnrfne pvcure? V zhpu cersre Pnrfne fnynq!\n"
     ]
    },
    {
     "ename": "KeyError",
     "evalue": "' '",
     "output_type": "error",
     "traceback": [
      "\u001b[1;31m---------------------------------------------------------------------------\u001b[0m",
      "\u001b[1;31mKeyError\u001b[0m                                  Traceback (most recent call last)",
      "Cell \u001b[1;32mIn[32], line 13\u001b[0m\n\u001b[0;32m     11\u001b[0m         newchar\u001b[38;5;241m=\u001b[39mchar\n\u001b[0;32m     12\u001b[0m     \u001b[38;5;28;01melse\u001b[39;00m:\n\u001b[1;32m---> 13\u001b[0m         newchar \u001b[38;5;241m=\u001b[39m trans[char]\n\u001b[0;32m     14\u001b[0m         encode \u001b[38;5;241m=\u001b[39m encode\u001b[38;5;241m+\u001b[39mnewchar\n\u001b[0;32m     16\u001b[0m \u001b[38;5;28mprint\u001b[39m(encode)\n",
      "\u001b[1;31mKeyError\u001b[0m: ' '"
     ]
    }
   ],
   "source": [
    "trans={'a':'n', 'b':'o', 'c':'p', 'd':'q', 'e':'r', 'f':'s', 'g':'t', 'h':'u', 'i':'v', 'j':'w', 'k':'x', 'l':'y', 'm':'z', 'n':'a', 'o':'b', 'p':'c',\n",
    "       'q':'d', 'r':'e', 's':'f', 't':'g', 'u':'h', 'v':'i', 'w':'j', 'x':'k', 'y':'l', 'z':'m', \n",
    "       'A':'N', 'B':'O', 'C':'P', 'D':'Q', 'E':'R', 'F':'S', \n",
    "       'G':'T', 'H':'U', 'I':'V', 'J':'W', 'K':'X', 'L':'Y', 'M':'Z', 'N':'A', 'O':'B', 'P':'C', 'Q':'D', 'R':'E', 'S':'F', 'T':'G', 'U':'H', 'V':'I',\n",
    "       'W':'J', 'X':'K', 'Y':'L', 'Z':'M'}\n",
    "\n",
    "code= input(\"enter the passcode\")\n",
    "encode= \"\"\n",
    "for char in code:\n",
    "    if (char=='')|(char=='?')|(char=='!'):\n",
    "        newchar=char\n",
    "    else:\n",
    "        newchar = trans[char]\n",
    "        encode = encode+newchar\n",
    "    \n",
    "print(encode)\n",
    "            \n",
    "        \n",
    "\n",
    "        \n",
    "\n",
    "        "
   ]
  },
  {
   "cell_type": "code",
   "execution_count": null,
   "id": "e5dfe97f",
   "metadata": {},
   "outputs": [],
   "source": []
  }
 ],
 "metadata": {
  "kernelspec": {
   "display_name": "Python 3 (ipykernel)",
   "language": "python",
   "name": "python3"
  },
  "language_info": {
   "codemirror_mode": {
    "name": "ipython",
    "version": 3
   },
   "file_extension": ".py",
   "mimetype": "text/x-python",
   "name": "python",
   "nbconvert_exporter": "python",
   "pygments_lexer": "ipython3",
   "version": "3.11.4"
  }
 },
 "nbformat": 4,
 "nbformat_minor": 5
}
