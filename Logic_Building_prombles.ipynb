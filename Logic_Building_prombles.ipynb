{
 "cells": [
  {
   "cell_type": "markdown",
   "id": "c67420f8",
   "metadata": {},
   "source": [
    "Basic Logic building programs\n",
    "\n",
    "Simple Calculator Program\n",
    "Scientific Calculator program"
   ]
  },
  {
   "cell_type": "code",
   "execution_count": 3,
   "id": "571fa90c",
   "metadata": {},
   "outputs": [],
   "source": [
    "import math\n",
    "\n",
    "def addition(a,b):\n",
    "    print((lambda a,b: a+b)(a,b))\n",
    "   \n",
    "\n",
    "def subtraction(a,b):\n",
    "    print((lambda a,b: a-b)(a,b))\n",
    "    \n",
    "def mutipication(a,b):\n",
    "    print((lambda a,b: a*b)(a,b))\n",
    "    \n",
    "def divide(a,b):\n",
    "    print((lambda a,b: a//b)(a,b))\n",
    "    \n",
    "def logari(a):\n",
    "    print((lambda a: math.log(a))(a))\n",
    "    \n",
    "def power(a,b):\n",
    "    print((lambda a,b: a**b)(a,b))\n",
    "    \n",
    "\n",
    "def calculator():\n",
    "    while (True):\n",
    "        print(\"press 1 to addition\\n press 2 to subtract \\n prees 3 to mutipication\\n press 4 to divide\\n press 5 to logariithmic \\n press 6 to power\\n press 7 to exit\")\n",
    "        choice=int(input(\"enter the choice\"))\n",
    "    \n",
    "        match choice:\n",
    "        \n",
    "            case 1:\n",
    "                a=int(input(\"enter the 1st number\"))\n",
    "                b=int(input(\"enter the 2st number\"))\n",
    "                addition(a,b)\n",
    "                \n",
    "            case 2:\n",
    "                a=int(input(\"enter the 1st number\"))\n",
    "                b=int(input(\"enter the 2st number\"))\n",
    "                subtraction(a,b)\n",
    "                \n",
    "            case 3:\n",
    "                a=int(input(\"enter the 1st number\"))\n",
    "                b=int(input(\"enter the 2st number\"))\n",
    "                mutipication(a,b)\n",
    "                \n",
    "                \n",
    "                \n",
    "            case 4:\n",
    "                a=int(input(\"enter the 1st number\"))\n",
    "                b=int(input(\"enter the 2st number\"))\n",
    "                divide(a,b)\n",
    "                \n",
    "                \n",
    "            case 5:\n",
    "                a=int(input(\"enter the 1st number\"))\n",
    "                b=int(input(\"enter the 2st number\"))\n",
    "                logari(a)\n",
    "                \n",
    "            case 6:\n",
    "                a=int(input(\"enter the 1st number\"))\n",
    "                b=int(input(\"enter the 2st number\"))\n",
    "                power(a,b)\n",
    "                \n",
    "            case 7:\n",
    "                print(exit)\n",
    "                break\n",
    "                \n",
    "                \n",
    "                \n",
    "                \n",
    "                \n",
    "    "
   ]
  },
  {
   "cell_type": "code",
   "execution_count": 4,
   "id": "3c2f27c4",
   "metadata": {},
   "outputs": [
    {
     "name": "stdout",
     "output_type": "stream",
     "text": [
      "press 1 to addition\n",
      " press 2 to subtract \n",
      " prees 3 to mutipication\n",
      " press 4 to divide\n",
      " press 5 to logariithmic \n",
      " press 6 to power\n",
      " press 7 to exit\n",
      "enter the choice6\n",
      "enter the 1st number10\n",
      "enter the 2st number2\n",
      "100\n",
      "press 1 to addition\n",
      " press 2 to subtract \n",
      " prees 3 to mutipication\n",
      " press 4 to divide\n",
      " press 5 to logariithmic \n",
      " press 6 to power\n",
      " press 7 to exit\n",
      "enter the choice7\n",
      "<IPython.core.autocall.ZMQExitAutocall object at 0x000001BDCEE89490>\n"
     ]
    }
   ],
   "source": [
    "calculator()"
   ]
  },
  {
   "cell_type": "markdown",
   "id": "67a238f1",
   "metadata": {},
   "source": [
    "WAP to print the odd numbers from 1 to 99. Prints one number per line."
   ]
  },
  {
   "cell_type": "code",
   "execution_count": 8,
   "id": "e4552d99",
   "metadata": {},
   "outputs": [
    {
     "name": "stdout",
     "output_type": "stream",
     "text": [
      "1\n",
      "3\n",
      "5\n",
      "7\n",
      "9\n",
      "11\n",
      "13\n",
      "15\n",
      "17\n",
      "19\n",
      "21\n",
      "23\n",
      "25\n",
      "27\n",
      "29\n",
      "31\n",
      "33\n",
      "35\n",
      "37\n",
      "39\n",
      "41\n",
      "43\n",
      "45\n",
      "47\n",
      "49\n",
      "51\n",
      "53\n",
      "55\n",
      "57\n",
      "59\n",
      "61\n",
      "63\n",
      "65\n",
      "67\n",
      "69\n",
      "71\n",
      "73\n",
      "75\n",
      "77\n",
      "79\n",
      "81\n",
      "83\n",
      "85\n",
      "87\n",
      "89\n",
      "91\n",
      "93\n",
      "95\n",
      "97\n",
      "99\n"
     ]
    }
   ],
   "source": [
    "odd_list=[]\n",
    "\n",
    "for i in range(1,100,2):\n",
    "    odd_list.append(i)\n",
    "\n",
    "odd_numbers=odd_list\n",
    "\n",
    "for e in odd_numbers:\n",
    "    print(e)"
   ]
  },
  {
   "cell_type": "markdown",
   "id": "2c22e209",
   "metadata": {},
   "source": [
    "AP  to accept a number and check the number is even or not. Prints 1 if the number is even or 0 if the number is odd."
   ]
  },
  {
   "cell_type": "code",
   "execution_count": 9,
   "id": "d21d9b7a",
   "metadata": {},
   "outputs": [
    {
     "name": "stdout",
     "output_type": "stream",
     "text": [
      "enter the number4\n",
      "1\n"
     ]
    }
   ],
   "source": [
    "number=int(input(\"enter the number\"))\n",
    "\n",
    "if number%2==0:\n",
    "    print(\"1\")\n",
    "    \n",
    "else:\n",
    "    print(\"0\")\n",
    "    "
   ]
  },
  {
   "cell_type": "markdown",
   "id": "99b381e9",
   "metadata": {},
   "source": [
    "WAP to print numbers between 1 to 100 which are divisible by 3, 5 and by both\n",
    "( total 3 list of numbers to be printed)\n"
   ]
  },
  {
   "cell_type": "code",
   "execution_count": 13,
   "id": "ac129e4a",
   "metadata": {},
   "outputs": [
    {
     "name": "stdout",
     "output_type": "stream",
     "text": [
      "number divisible by 3 [3, 6, 9, 12, 15, 18, 21, 24, 27, 30, 33, 36, 39, 42, 45, 48, 51, 54, 57, 60, 63, 66, 69, 72, 75, 78, 81, 84, 87, 90, 93, 96, 99]\n",
      "number divisible by 5 [5, 10, 15, 20, 25, 30, 35, 40, 45, 50, 55, 60, 65, 70, 75, 80, 85, 90, 95]\n",
      "number divisible by 3 and 5 [15, 30, 45, 60, 75, 90]\n"
     ]
    }
   ],
   "source": [
    "number_list=[]\n",
    "num3=[]\n",
    "num5=[]\n",
    "num=[]\n",
    "for i in range(1,100):\n",
    "    number_list.append(i)\n",
    "    \n",
    "a=number_list\n",
    "\n",
    "for e in a:\n",
    "    if e%3==0:\n",
    "        num3.append(e)\n",
    "    if e%5==0:\n",
    "        num5.append(e)\n",
    "    if e%3==0 and e%5==0:\n",
    "        num.append(e)\n",
    "        \n",
    "print(\"number divisible by 3\",num3)\n",
    "print(\"number divisible by 5\",num5)\n",
    "print(\"number divisible by 3 and 5\",num)\n",
    "\n",
    "\n",
    "    "
   ]
  },
  {
   "cell_type": "markdown",
   "id": "9dd0ec98",
   "metadata": {},
   "source": [
    "WAP to convert input number of seconds to HH:MM:SS"
   ]
  },
  {
   "cell_type": "code",
   "execution_count": 35,
   "id": "24649562",
   "metadata": {},
   "outputs": [
    {
     "name": "stdout",
     "output_type": "stream",
     "text": [
      "Enter the time in seconds7300\n",
      "the time in format HH:MM:SS is 2:1:40\n"
     ]
    }
   ],
   "source": [
    "time=int(input(\"Enter the time in seconds\"))\n",
    "\n",
    "if time<3600:\n",
    "    MM,SS=divmod(time,60)\n",
    "    print(\"the time in format HH:MM:SS is {}:{}:{}\".format (0,MM,SS))\n",
    "\n",
    "elif time<60:\n",
    "    SS=time\n",
    "    print(\"the time in format HH:MM:SS is {}:{}:{}\".format (0,0,SS))\n",
    "    \n",
    "else:\n",
    "    HH,rem=divmod(time,3600)\n",
    "    MM,SS=divmod(rem,60)\n",
    "        \n",
    "print(\"the time in format HH:MM:SS is {}:{}:{}\".format (HH,MM,SS))"
   ]
  },
  {
   "cell_type": "markdown",
   "id": "0d257b8f",
   "metadata": {},
   "source": [
    "WAP to print all leap years between 2000 to 2100. Apply all conditions of checking leap year ( (divisible by 4 and not divisible by 100) OR (divisible by 400))"
   ]
  },
  {
   "cell_type": "code",
   "execution_count": 22,
   "id": "64fbd4aa",
   "metadata": {},
   "outputs": [
    {
     "name": "stdout",
     "output_type": "stream",
     "text": [
      "enter the year2005\n",
      "year is not leap year\n"
     ]
    }
   ],
   "source": [
    "year=int(input(\"enter the year\"))\n",
    "\n",
    "if ((year%4==0)and(year%100!=0))or (year%400==0):\n",
    "    print(\"year is leap year\")\n",
    "else:\n",
    "    print(\"year is not leap year\")\n",
    "    "
   ]
  },
  {
   "cell_type": "markdown",
   "id": "89472ab0",
   "metadata": {},
   "source": [
    "WAP to print calender for a month. Take how many days are there in month and starting day of the month as input\n",
    "    Ex. input no of days : 30  starting day of month : Thursday\n",
    "    Ouput :: Day wise Calender  ( just like June 2022 month)"
   ]
  },
  {
   "cell_type": "code",
   "execution_count": 32,
   "id": "3cb4fa71",
   "metadata": {},
   "outputs": [
    {
     "name": "stdout",
     "output_type": "stream",
     "text": [
      "enter the days using spacesMon Tue Wed Thur Fri Sat Sun\n",
      "Mon   Tue   Wed   Thur   Fri   Sat   Sun   "
     ]
    }
   ],
   "source": [
    "days=input(\"enter the days using spaces\")\n",
    "day=days.split()\n",
    "\n",
    "for i in (day) :\n",
    "    print(i,end=\"   \")\n",
    "    \n",
    "    \n"
   ]
  },
  {
   "cell_type": "markdown",
   "id": "ff73084d",
   "metadata": {},
   "source": [
    "Fibonacci Series.\n",
    "    1,1,2,3,5,8,13,21,34,..."
   ]
  },
  {
   "cell_type": "code",
   "execution_count": 1,
   "id": "03b16bbd",
   "metadata": {},
   "outputs": [],
   "source": [
    "#num=int(input(\"Enter the number\"))\n",
    "def fabonacci_series(num):\n",
    "    a=0\n",
    "    b=1\n",
    "\n",
    "    for i in range(num):\n",
    "        print(a)\n",
    "        total=(a+b)\n",
    "        a=b\n",
    "        b=total\n",
    "    \n",
    "    \n",
    "    "
   ]
  },
  {
   "cell_type": "code",
   "execution_count": 2,
   "id": "76d5e778",
   "metadata": {},
   "outputs": [
    {
     "name": "stdout",
     "output_type": "stream",
     "text": [
      "0\n",
      "1\n",
      "1\n",
      "2\n",
      "3\n",
      "5\n",
      "8\n",
      "13\n",
      "21\n",
      "34\n"
     ]
    }
   ],
   "source": [
    "fabonacci_series(10)\n"
   ]
  },
  {
   "cell_type": "markdown",
   "id": "e6efac56",
   "metadata": {},
   "source": [
    "Factorial of a number using loop\n",
    "    n! = n * (n-1) * (n-2) * ... *2*1"
   ]
  },
  {
   "cell_type": "code",
   "execution_count": 4,
   "id": "ac05c3b6",
   "metadata": {},
   "outputs": [],
   "source": [
    "#num=int(input(\"Enter teh number\"))\n",
    "\n",
    "def factorial(num):\n",
    "    fact=1\n",
    "    for i in range(2,num+1):\n",
    "        fact=fact*i\n",
    "    print(\"{}! is {}\".format(num,fact))\n"
   ]
  },
  {
   "cell_type": "code",
   "execution_count": 5,
   "id": "db9b76e0",
   "metadata": {},
   "outputs": [
    {
     "name": "stdout",
     "output_type": "stream",
     "text": [
      "4! is 24\n"
     ]
    }
   ],
   "source": [
    "factorial(4)"
   ]
  },
  {
   "cell_type": "markdown",
   "id": "188a910a",
   "metadata": {},
   "source": [
    "Factorial Program using Recursion\n",
    "    n! = n * (n-1) * (n-2) * ... *2*1"
   ]
  },
  {
   "cell_type": "code",
   "execution_count": 8,
   "id": "620dad62",
   "metadata": {},
   "outputs": [
    {
     "data": {
      "text/plain": [
       "24"
      ]
     },
     "execution_count": 8,
     "metadata": {},
     "output_type": "execute_result"
    }
   ],
   "source": [
    "def factorial(num):\n",
    "    if num==0:\n",
    "        return 1\n",
    "    else:\n",
    "        return num*factorial(num-1)\n",
    "        \n",
    "\n",
    "factorial(4)"
   ]
  },
  {
   "cell_type": "markdown",
   "id": "55d70fc3",
   "metadata": {},
   "source": [
    "Armstrong Number.\n",
    "    It is a number with 'n' digits. Here (sum of every digit ^ n) equal to ( number itself)\n",
    "\n",
    "    1) 1^3 5^3 3^3=153 ( here number of digits(n) is 3)\n",
    "    2) 1^1 = 1 ( here number of digits is 1)\n",
    "    3) 1634 = 1^4 + 6^4 + 3^4 + 4^4 ( here number of digits is 4)"
   ]
  },
  {
   "cell_type": "code",
   "execution_count": 1,
   "id": "4f48a24d",
   "metadata": {},
   "outputs": [
    {
     "name": "stdout",
     "output_type": "stream",
     "text": [
      "enter the number1634\n",
      "1634\n"
     ]
    }
   ],
   "source": [
    "number=input('enter the number')\n",
    "\n",
    "order=len(number)\n",
    "#print(order)\n",
    "sum=0\n",
    "\n",
    "for n in number:\n",
    "    sum+=int(n)**order\n",
    "\n",
    "if sum==int(number):\n",
    "    print(sum)\n",
    "\n",
    "else:\n",
    "    print(\"not a Armstrong no\")\n",
    "    "
   ]
  },
  {
   "cell_type": "markdown",
   "id": "d01d61a5",
   "metadata": {},
   "source": [
    "WAP that accepts three integers from the user and return true if two or more of them (integers ) have the same rightmost digit. The integers are non-negative"
   ]
  },
  {
   "cell_type": "code",
   "execution_count": 15,
   "id": "11dc26c5",
   "metadata": {},
   "outputs": [],
   "source": [
    "\n",
    "def last_digit(num):\n",
    "    list_num=num.split()\n",
    "    x=list(map(int, list_num))\n",
    "    last_digit=[]\n",
    "\n",
    "    for e in x:\n",
    "        q1=e%10\n",
    "        last_digit.append(q1)\n",
    "    \n",
    "    if (last_digit[0]==last_digit[1])and(last_digit[0]==last_digit[2]):\n",
    "        return True\n",
    "    else:\n",
    "        return False\n",
    "   "
   ]
  },
  {
   "cell_type": "code",
   "execution_count": 17,
   "id": "f93821ff",
   "metadata": {},
   "outputs": [
    {
     "name": "stdout",
     "output_type": "stream",
     "text": [
      "Enter the numbers with spaces45 55 65\n"
     ]
    },
    {
     "data": {
      "text/plain": [
       "True"
      ]
     },
     "execution_count": 17,
     "metadata": {},
     "output_type": "execute_result"
    }
   ],
   "source": [
    "num=input(\"Enter the numbers with spaces\")\n",
    "\n",
    "last_digit(num)"
   ]
  },
  {
   "cell_type": "code",
   "execution_count": 18,
   "id": "d000e662",
   "metadata": {},
   "outputs": [
    {
     "name": "stdout",
     "output_type": "stream",
     "text": [
      "Enter the numbers with spaces45 789 65\n"
     ]
    },
    {
     "data": {
      "text/plain": [
       "False"
      ]
     },
     "execution_count": 18,
     "metadata": {},
     "output_type": "execute_result"
    }
   ],
   "source": [
    "num=input(\"Enter the numbers with spaces\")\n",
    "\n",
    "last_digit(num)"
   ]
  },
  {
   "cell_type": "code",
   "execution_count": null,
   "id": "c50ec969",
   "metadata": {},
   "outputs": [],
   "source": [
    "given a list of strings. every string is in format \"Emp_name:Emp_id\" Emp_id is always a number if emp_id is amstrong number then rotate emp_name 1 place to the right --> and print the emp_name if emp_id is a prime no then print vowels from the employee name in other cases print consonents from the emp name Finally there should be print of every employee name as per given condition"
   ]
  },
  {
   "cell_type": "code",
   "execution_count": 5,
   "id": "7b3fa978",
   "metadata": {},
   "outputs": [],
   "source": [
    "def amstrong_number(num):\n",
    "    order=len(num)\n",
    "    sum=0\n",
    "    for n in num:\n",
    "        sum+=int(n)**order\n",
    "        \n",
    "    if sum==int(num):\n",
    "        return True\n",
    "    else:\n",
    "        return False\n",
    "    \n",
    "def prime_num(num):\n",
    "    x=int(num)\n",
    "    for n in range(x):\n",
    "        if n>1:\n",
    "            if x%n==0:\n",
    "                return False\n",
    "    else:\n",
    "        return True\n",
    "    \n",
    "def rotate_name(name):\n",
    "    nm=name[-1::]+name[:-1]\n",
    "    print(nm)\n",
    "    \n",
    "def vowels(name,choice):\n",
    "    vow=con=''\n",
    "    for char in name:\n",
    "        if (char=='a') or (char=='e') or (char=='i') or (char=='o') or (char=='u'):\n",
    "            vow+=char\n",
    "        else:\n",
    "            con+=char\n",
    "    if choice==1:\n",
    "        print(vow)\n",
    "    else:\n",
    "        print(con)\n",
    "        \n",
    "def check_1(list):\n",
    "    \n",
    "    for e in list:\n",
    "        name,emp_id=e.lower().split(':')\n",
    "        \n",
    "        if amstrong_number(emp_id)==True:\n",
    "            rotate_name(name)\n",
    "            \n",
    "        elif prime_num(emp_id)==True:\n",
    "            vowels(name,1)\n",
    "            \n",
    "        else:\n",
    "            vowels(name,0)\n",
    "            \n",
    "        \n",
    "    \n"
   ]
  },
  {
   "cell_type": "code",
   "execution_count": 6,
   "id": "47325c5d",
   "metadata": {},
   "outputs": [
    {
     "name": "stdout",
     "output_type": "stream",
     "text": [
      "hpiyus\n",
      "au\n",
      "ysh\n"
     ]
    }
   ],
   "source": [
    "check_1(['piyush:153','ankush:11','yash:33'])"
   ]
  },
  {
   "cell_type": "markdown",
   "id": "ea4feaa8",
   "metadata": {},
   "source": [
    "Perfect sqaure WAP to check if a number is perfect square ot not."
   ]
  },
  {
   "cell_type": "code",
   "execution_count": 7,
   "id": "37f35229",
   "metadata": {},
   "outputs": [
    {
     "name": "stdout",
     "output_type": "stream",
     "text": [
      "enter the number64\n",
      "square root\n"
     ]
    }
   ],
   "source": [
    "import math\n",
    "number=int(input(\"enter the number\"))\n",
    "\n",
    "num=math.sqrt(number) #gives a float values\n",
    "\n",
    "if number%num==0:\n",
    "     print('square root')\n",
    "    \n",
    "else:\n",
    "     print('not square root')\n",
    "\n",
    "\n",
    "    \n",
    "\n"
   ]
  },
  {
   "cell_type": "markdown",
   "id": "c862df8f",
   "metadata": {},
   "source": [
    "Prime number is not divisible by any number other than 1 and itself"
   ]
  },
  {
   "cell_type": "code",
   "execution_count": 4,
   "id": "ac250ab7",
   "metadata": {},
   "outputs": [],
   "source": [
    "\n",
    "def prime_no(num):\n",
    "    for n in range(num):\n",
    "        if n>1:\n",
    "            if num%n==0:\n",
    "                return False\n",
    "    else:\n",
    "        return True\n",
    "    "
   ]
  },
  {
   "cell_type": "code",
   "execution_count": 5,
   "id": "12e3d72d",
   "metadata": {},
   "outputs": [
    {
     "data": {
      "text/plain": [
       "True"
      ]
     },
     "execution_count": 5,
     "metadata": {},
     "output_type": "execute_result"
    }
   ],
   "source": [
    "prime_no(13)"
   ]
  },
  {
   "cell_type": "markdown",
   "id": "c6e95b76",
   "metadata": {},
   "source": [
    "Reverse a string./ Reverse a number."
   ]
  },
  {
   "cell_type": "code",
   "execution_count": 20,
   "id": "9df086bd",
   "metadata": {},
   "outputs": [
    {
     "name": "stdout",
     "output_type": "stream",
     "text": [
      "yahska\n"
     ]
    }
   ],
   "source": [
    "string='akshay'\n",
    "\n",
    "x=string[::-1]\n",
    "print(x)"
   ]
  },
  {
   "cell_type": "code",
   "execution_count": null,
   "id": "cff2a661",
   "metadata": {},
   "outputs": [],
   "source": [
    "Check Palindrome number"
   ]
  },
  {
   "cell_type": "code",
   "execution_count": 33,
   "id": "b6b4f1d5",
   "metadata": {},
   "outputs": [
    {
     "name": "stdout",
     "output_type": "stream",
     "text": [
      "[1, 2, 3, 4, 5, 6]\n",
      "not palidrrome\n"
     ]
    }
   ],
   "source": [
    "number='123456'\n",
    "list_number=list(number)\n",
    "list_number=list(map(int, list_number))\n",
    "#print(list_number)\n",
    "\n",
    "rev=list_number[::-1]\n",
    "\n",
    "if rev==list_number:\n",
    "    print('series is palidrome')\n",
    "else:\n",
    "    print('not palidrrome')\n"
   ]
  },
  {
   "cell_type": "code",
   "execution_count": 35,
   "id": "2b99a43b",
   "metadata": {},
   "outputs": [
    {
     "name": "stdout",
     "output_type": "stream",
     "text": [
      "string is Palidrome\n"
     ]
    }
   ],
   "source": [
    "string='nitin'\n",
    "list_str=list(string)\n",
    "\n",
    "if list_str==list_str[::-1]:\n",
    "    print('string is Palidrome')\n",
    "else:\n",
    "    print(\"String is not Palidrome\")"
   ]
  },
  {
   "cell_type": "code",
   "execution_count": null,
   "id": "23e05228",
   "metadata": {},
   "outputs": [],
   "source": [
    "Find duplicate characters in a string."
   ]
  },
  {
   "cell_type": "code",
   "execution_count": 45,
   "id": "ac33ae7c",
   "metadata": {},
   "outputs": [
    {
     "name": "stdout",
     "output_type": "stream",
     "text": [
      "{'t', 'a', 'b'}\n"
     ]
    }
   ],
   "source": [
    "string='abdtaftab'\n",
    "set_1=set()\n",
    "for e in string:\n",
    "    x=string.count(e)\n",
    "    #count the number of occurence of the element in whole string\n",
    "    #print(x)\n",
    "    if x>1:\n",
    "        set_1.add(e)\n",
    "        \n",
    "    \n",
    "print(set_1)\n",
    "    \n",
    "\n",
    "    "
   ]
  },
  {
   "cell_type": "markdown",
   "id": "6e29cfa2",
   "metadata": {},
   "source": [
    "Take a number from user. Print highest number possible using all digits once from given number "
   ]
  },
  {
   "cell_type": "code",
   "execution_count": 3,
   "id": "fc7f1137",
   "metadata": {},
   "outputs": [
    {
     "name": "stdout",
     "output_type": "stream",
     "text": [
      "enter the number using spaces12 34 56 789\n",
      "['12', '34', '56', '789']\n",
      "[12, 34, 56, 789]\n",
      "789\n",
      "789\n"
     ]
    }
   ],
   "source": [
    "number=input(\"enter the number using spaces\")\n",
    "\n",
    "list_num=number.split()\n",
    "\n",
    "print(list_num)\n",
    "lis_num=list(map(int,list_num))\n",
    "print(lis_num)\n",
    "\n",
    "max_num=max(list_num)\n",
    "\n",
    "print(max(list_num))\n",
    "print(max_num)\n",
    "\n",
    "\n",
    "# l=[1,2,22,100,7765,89]\n",
    "\n",
    "# print(max(l))\n",
    "# # sort_1=sorted(lis_num,reverse=True)\n",
    "# # #print(sort_1)\n",
    "# # print(sort_1[0])"
   ]
  },
  {
   "cell_type": "markdown",
   "id": "44deb004",
   "metadata": {},
   "source": [
    "print table of any given number \n",
    "    2,4,6,8,10,12,14,16,18,20"
   ]
  },
  {
   "cell_type": "code",
   "execution_count": 5,
   "id": "5555616e",
   "metadata": {},
   "outputs": [
    {
     "name": "stdout",
     "output_type": "stream",
     "text": [
      "2*1=2\n",
      "2*2=4\n",
      "2*3=6\n",
      "2*4=8\n",
      "2*5=10\n",
      "2*6=12\n",
      "2*7=14\n",
      "2*8=16\n",
      "2*9=18\n",
      "2*10=20\n",
      "4*1=4\n",
      "4*2=8\n",
      "4*3=12\n",
      "4*4=16\n",
      "4*5=20\n",
      "4*6=24\n",
      "4*7=28\n",
      "4*8=32\n",
      "4*9=36\n",
      "4*10=40\n",
      "6*1=6\n",
      "6*2=12\n",
      "6*3=18\n",
      "6*4=24\n",
      "6*5=30\n",
      "6*6=36\n",
      "6*7=42\n",
      "6*8=48\n",
      "6*9=54\n",
      "6*10=60\n",
      "8*1=8\n",
      "8*2=16\n",
      "8*3=24\n",
      "8*4=32\n",
      "8*5=40\n",
      "8*6=48\n",
      "8*7=56\n",
      "8*8=64\n",
      "8*9=72\n",
      "8*10=80\n",
      "10*1=10\n",
      "10*2=20\n",
      "10*3=30\n",
      "10*4=40\n",
      "10*5=50\n",
      "10*6=60\n",
      "10*7=70\n",
      "10*8=80\n",
      "10*9=90\n",
      "10*10=100\n",
      "12*1=12\n",
      "12*2=24\n",
      "12*3=36\n",
      "12*4=48\n",
      "12*5=60\n",
      "12*6=72\n",
      "12*7=84\n",
      "12*8=96\n",
      "12*9=108\n",
      "12*10=120\n",
      "14*1=14\n",
      "14*2=28\n",
      "14*3=42\n",
      "14*4=56\n",
      "14*5=70\n",
      "14*6=84\n",
      "14*7=98\n",
      "14*8=112\n",
      "14*9=126\n",
      "14*10=140\n",
      "16*1=16\n",
      "16*2=32\n",
      "16*3=48\n",
      "16*4=64\n",
      "16*5=80\n",
      "16*6=96\n",
      "16*7=112\n",
      "16*8=128\n",
      "16*9=144\n",
      "16*10=160\n",
      "18*1=18\n",
      "18*2=36\n",
      "18*3=54\n",
      "18*4=72\n",
      "18*5=90\n",
      "18*6=108\n",
      "18*7=126\n",
      "18*8=144\n",
      "18*9=162\n",
      "18*10=180\n",
      "20*1=20\n",
      "20*2=40\n",
      "20*3=60\n",
      "20*4=80\n",
      "20*5=100\n",
      "20*6=120\n",
      "20*7=140\n",
      "20*8=160\n",
      "20*9=180\n",
      "20*10=200\n"
     ]
    }
   ],
   "source": [
    "for e1 in range(2,21,2):\n",
    "    for e2 in range(1,11):\n",
    "        table=e1*e2\n",
    "        print('{}*{}={}'.format(e1,e2,table))\n",
    "        "
   ]
  },
  {
   "cell_type": "markdown",
   "id": "5a91543c",
   "metadata": {},
   "source": [
    "Pattern Programs --> star patterns"
   ]
  },
  {
   "cell_type": "markdown",
   "id": "471434ef",
   "metadata": {},
   "source": [
    "WAP to find second last maximum value"
   ]
  },
  {
   "cell_type": "code",
   "execution_count": 11,
   "id": "e0e828be",
   "metadata": {},
   "outputs": [],
   "source": [
    "\n",
    "# q1=num//10\n",
    "# q2=q1%10\n",
    "\n",
    "def second_last_digit(list_number):\n",
    "    second_last=[]\n",
    "\n",
    "    for e in list_number:\n",
    "        q1=e//10\n",
    "        q2=q1%10\n",
    "        second_last.append(q2)\n",
    "    \n",
    "    print(second_last)\n",
    "    max_digit=max(second_last)\n",
    "    print(max_digit)\n",
    "    "
   ]
  },
  {
   "cell_type": "code",
   "execution_count": 13,
   "id": "2a07e8f6",
   "metadata": {},
   "outputs": [
    {
     "name": "stdout",
     "output_type": "stream",
     "text": [
      "[1, 5, 9, 7, 3]\n",
      "9\n"
     ]
    }
   ],
   "source": [
    "list_number=[12,857,96,475,36]\n",
    "second_last_digit(list_number)"
   ]
  },
  {
   "cell_type": "code",
   "execution_count": 19,
   "id": "ea42e427",
   "metadata": {},
   "outputs": [],
   "source": [
    "def second_last_digit_1(list_number):\n",
    "    second_last=[]\n",
    "\n",
    "    for e in list_number:\n",
    "        q1=e//10\n",
    "        q2=q1%10\n",
    "        second_last.append(q2)\n",
    "    \n",
    "    print(second_last)\n",
    "    min_digit=min(second_last)\n",
    "    print(min_digit)"
   ]
  },
  {
   "cell_type": "code",
   "execution_count": 20,
   "id": "da75b378",
   "metadata": {},
   "outputs": [
    {
     "name": "stdout",
     "output_type": "stream",
     "text": [
      "[1, 5, 9, 7, 3]\n",
      "1\n"
     ]
    }
   ],
   "source": [
    "list_number=[12,857,96,475,36]\n",
    "second_last_digit_1(list_number)"
   ]
  },
  {
   "cell_type": "markdown",
   "id": "3f09d5f3",
   "metadata": {},
   "source": [
    "Write a  program to print the area and perimeter of a circle"
   ]
  },
  {
   "cell_type": "code",
   "execution_count": 3,
   "id": "338bd57e",
   "metadata": {},
   "outputs": [],
   "source": [
    "def area_perimeter(radius):\n",
    "    import math\n",
    "    a=math.pi*(radius**2)\n",
    "    print(\"Area:\",round(a,2))\n",
    "\n",
    "    peri=2*(math.pi)*(radius)\n",
    "    print(\"perimeter:\",round(peri,2))\n"
   ]
  },
  {
   "cell_type": "code",
   "execution_count": 4,
   "id": "71ea5a10",
   "metadata": {},
   "outputs": [
    {
     "name": "stdout",
     "output_type": "stream",
     "text": [
      "Area: 78.54\n",
      "perimeter: 31.42\n"
     ]
    }
   ],
   "source": [
    " area_perimeter(5)"
   ]
  },
  {
   "cell_type": "markdown",
   "id": "b6f5192c",
   "metadata": {},
   "source": [
    "Write a  program that takes three numbers as input to calculate and print the average of the numbers."
   ]
  },
  {
   "cell_type": "code",
   "execution_count": 5,
   "id": "d2dc0ff1",
   "metadata": {},
   "outputs": [],
   "source": [
    "def avg_no(number):\n",
    "    list_num=number.split()\n",
    "    list_num=list(map(int,list_num))\n",
    "    order=len(list_num)\n",
    "    \n",
    "    add=sum(list_num)\n",
    "    avg=add/order\n",
    "    \n",
    "    print(avg)\n",
    "    "
   ]
  },
  {
   "cell_type": "code",
   "execution_count": 7,
   "id": "18420802",
   "metadata": {},
   "outputs": [
    {
     "name": "stdout",
     "output_type": "stream",
     "text": [
      "enter the number with spaces78 89 12 63\n",
      "60.5\n"
     ]
    }
   ],
   "source": [
    "number=input(\"enter the number with spaces\")\n",
    "avg_no(number)"
   ]
  },
  {
   "cell_type": "markdown",
   "id": "30288c2e",
   "metadata": {},
   "source": [
    "Write a  program that takes three numbers as input then print maximum and minimum number of the three"
   ]
  },
  {
   "cell_type": "code",
   "execution_count": 10,
   "id": "1085a81b",
   "metadata": {},
   "outputs": [],
   "source": [
    "def minmax(number):\n",
    "    list_num=number.split()\n",
    "    list_num=list(map(int,list_num))\n",
    "    \n",
    "    max_1=max(list_num)\n",
    "    print(max_1)\n",
    "    min_1=min(list_num)\n",
    "    print(min_1)\n",
    "    \n",
    "    \n",
    "    "
   ]
  },
  {
   "cell_type": "code",
   "execution_count": 11,
   "id": "7f238560",
   "metadata": {},
   "outputs": [
    {
     "name": "stdout",
     "output_type": "stream",
     "text": [
      "enter the number with spaces78 45 36 12\n",
      "78\n",
      "12\n"
     ]
    }
   ],
   "source": [
    "number=input(\"enter the number with spaces\")\n",
    "minmax(number)"
   ]
  },
  {
   "cell_type": "markdown",
   "id": "1758fc10",
   "metadata": {},
   "source": [
    "Write a  program and compute the sum of the digits of an integer"
   ]
  },
  {
   "cell_type": "code",
   "execution_count": 14,
   "id": "28356a87",
   "metadata": {},
   "outputs": [
    {
     "name": "stdout",
     "output_type": "stream",
     "text": [
      "3\n",
      "12\n"
     ]
    }
   ],
   "source": [
    "num=123\n",
    "print(num%10)\n",
    "print(num//10)"
   ]
  },
  {
   "cell_type": "code",
   "execution_count": 16,
   "id": "71c53d31",
   "metadata": {},
   "outputs": [
    {
     "name": "stdout",
     "output_type": "stream",
     "text": [
      "9\n"
     ]
    }
   ],
   "source": [
    "number=351\n",
    "add=0\n",
    "while number>0:\n",
    "    q1=number%10\n",
    "    add+=q1\n",
    "    number=number//10\n",
    "    \n",
    "print(add)"
   ]
  },
  {
   "cell_type": "markdown",
   "id": "14fd0cfd",
   "metadata": {},
   "source": [
    "WAP  to count the letters, spaces, numbers and other characters of an input string."
   ]
  },
  {
   "cell_type": "code",
   "execution_count": 18,
   "id": "4d2d0090",
   "metadata": {},
   "outputs": [
    {
     "name": "stdout",
     "output_type": "stream",
     "text": [
      "#\n",
      "$\n",
      " \n",
      "_\n",
      "4\n"
     ]
    }
   ],
   "source": [
    "string='akc#$queb _kcdbkj'\n",
    "count=0\n",
    "for char in string:\n",
    "    if char=='#'or char=='$'or char==' 'or char=='_':\n",
    "        count+=1\n",
    "        print(char)\n",
    "        \n",
    "print(count)\n",
    "        "
   ]
  },
  {
   "cell_type": "markdown",
   "id": "f60eacf2",
   "metadata": {},
   "source": [
    "WAP  to print the ascii value of a given character"
   ]
  },
  {
   "cell_type": "code",
   "execution_count": 23,
   "id": "7badf057",
   "metadata": {},
   "outputs": [
    {
     "name": "stdout",
     "output_type": "stream",
     "text": [
      "97\n",
      "98\n",
      "99\n",
      "100\n",
      "49\n",
      "50\n",
      "53\n",
      "65\n",
      "32\n",
      "36\n"
     ]
    }
   ],
   "source": [
    "string='abcd125A $'\n",
    "\n",
    "for char in string:\n",
    "    ascii_1=ord(char)\n",
    "    print(ascii_1)"
   ]
  },
  {
   "cell_type": "markdown",
   "id": "1005daa9",
   "metadata": {},
   "source": [
    "WAP to capitalize the first letter of each word in input sentence."
   ]
  },
  {
   "cell_type": "code",
   "execution_count": 26,
   "id": "6d2881ac",
   "metadata": {},
   "outputs": [
    {
     "name": "stdout",
     "output_type": "stream",
     "text": [
      "Hello I Am Iacsd\n"
     ]
    }
   ],
   "source": [
    "string='hello i am iacsd'\n",
    "\n",
    "x=string.title()\n",
    "print(x)"
   ]
  },
  {
   "cell_type": "markdown",
   "id": "62a6d08d",
   "metadata": {},
   "source": [
    "WAP to find the penultimate (last but one) word of a sentence"
   ]
  },
  {
   "cell_type": "code",
   "execution_count": null,
   "id": "15d718ce",
   "metadata": {},
   "outputs": [],
   "source": []
  }
 ],
 "metadata": {
  "kernelspec": {
   "display_name": "Python 3 (ipykernel)",
   "language": "python",
   "name": "python3"
  },
  "language_info": {
   "codemirror_mode": {
    "name": "ipython",
    "version": 3
   },
   "file_extension": ".py",
   "mimetype": "text/x-python",
   "name": "python",
   "nbconvert_exporter": "python",
   "pygments_lexer": "ipython3",
   "version": "3.11.4"
  }
 },
 "nbformat": 4,
 "nbformat_minor": 5
}
